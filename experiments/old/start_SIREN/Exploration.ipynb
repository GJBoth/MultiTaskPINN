{
 "cells": [
  {
   "cell_type": "markdown",
   "metadata": {},
   "source": [
    "When should we start SIREN and how often should we perform sparsity selection? In this notebook we figure it out."
   ]
  },
  {
   "cell_type": "code",
   "execution_count": 27,
   "metadata": {
    "tags": []
   },
   "outputs": [
    {
     "name": "stdout",
     "output_type": "stream",
     "text": [
      "running on cuda\n",
      "The autoreload extension is already loaded. To reload it, use:\n",
      "  %reload_ext autoreload\n"
     ]
    }
   ],
   "source": [
    "# General imports\n",
    "import numpy as np\n",
    "import torch\n",
    "\n",
    "# DeepMoD Components\n",
    "from multitaskpinn import DeepMoD\n",
    "from multitaskpinn.model.func_approx import NN, Siren\n",
    "from multitaskpinn.model.library import Library1D\n",
    "from multitaskpinn.model.constraint import LeastSquares\n",
    "from multitaskpinn.model.sparse_estimators import Threshold\n",
    "from multitaskpinn.training import train\n",
    "from multitaskpinn.training.sparsity_scheduler import Periodic\n",
    "\n",
    "# Data\n",
    "from phimal_utilities.data import Dataset\n",
    "from phimal_utilities.data.kdv import DoubleSoliton\n",
    "\n",
    "#Plotting\n",
    "import matplotlib.pyplot as plt\n",
    "import seaborn as sns\n",
    "sns.set()\n",
    "\n",
    "# Cuda\n",
    "if torch.cuda.is_available():\n",
    "    device = 'cuda'\n",
    "else:\n",
    "    device = 'cpu'\n",
    "\n",
    "print(f'running on {device}')\n",
    "# Settings for reproducibility\n",
    "np.random.seed(42)\n",
    "torch.manual_seed(0)\n",
    "torch.backends.cudnn.deterministic = True\n",
    "torch.backends.cudnn.benchmark = False\n",
    "\n",
    "%load_ext autoreload\n",
    "%autoreload 2"
   ]
  },
  {
   "cell_type": "code",
   "execution_count": 28,
   "metadata": {},
   "outputs": [],
   "source": [
    "# Making data\n",
    "x = np.linspace(-7, 5, 100)\n",
    "t = np.linspace(0.0, 1.0, 50)\n",
    "\n",
    "x_grid, t_grid = np.meshgrid(x, t, indexing='ij')\n",
    "dataset = Dataset(DoubleSoliton, c=(5, 2), x0=(-3, -1))\n",
    "\n",
    "\n",
    "X_full, y_full = dataset.create_dataset(x_grid.reshape(-1, 1), t_grid.reshape(-1, 1), n_samples=0, noise=0.0, normalize=False, random=False)"
   ]
  },
  {
   "cell_type": "code",
   "execution_count": 29,
   "metadata": {},
   "outputs": [
    {
     "data": {
      "text/plain": [
       "Text(0, 0.5, 't')"
      ]
     },
     "execution_count": 29,
     "metadata": {},
     "output_type": "execute_result"
    },
    {
     "data": {
      "image/png": "[encoded data removed]",
      "text/plain": [
       "<Figure size 432x288 with 1 Axes>"
      ]
     },
     "metadata": {},
     "output_type": "display_data"
    }
   ],
   "source": [
    "plt.contourf(t_grid, x_grid, y_full.reshape(x_grid.shape))\n",
    "plt.xlabel('x')\n",
    "plt.ylabel('t')"
   ]
  },
  {
   "cell_type": "markdown",
   "metadata": {},
   "source": [
    "Now we sample on a square grid:"
   ]
  },
  {
   "cell_type": "code",
   "execution_count": 30,
   "metadata": {},
   "outputs": [],
   "source": [
    "# Making training set\n",
    "x_sample = np.linspace(-7, 5, 50)\n",
    "t_sample = np.linspace(0.0, 1.0, 40)\n",
    "x_grid_sample, t_grid_sample = np.meshgrid(x_sample, t_sample, indexing='ij')\n",
    "X_train, y_train = dataset.create_dataset(x_grid_sample.reshape(-1, 1), t_grid_sample.reshape(-1, 1), n_samples=0, noise=0.1, normalize=True, random=True)"
   ]
  },
  {
   "cell_type": "code",
   "execution_count": 31,
   "metadata": {},
   "outputs": [
    {
     "data": {
      "text/plain": [
       "tensor(0.0041)"
      ]
     },
     "execution_count": 31,
     "metadata": {},
     "output_type": "execute_result"
    }
   ],
   "source": [
    "(0.1 * torch.std(y_train))**2"
   ]
  },
  {
   "cell_type": "markdown",
   "metadata": {},
   "source": [
    "# Baseline NN"
   ]
  },
  {
   "cell_type": "code",
   "execution_count": 43,
   "metadata": {},
   "outputs": [],
   "source": [
    "# Configuring model\n",
    "network = NN(2, [30, 30, 30, 30, 30], 1)  # Function approximator\n",
    "library = Library1D(poly_order=2, diff_order=3) # Library function\n",
    "estimator = Threshold(0.1) #Clustering() # Sparse estimator \n",
    "constraint = LeastSquares() # How to constrain\n",
    "model = DeepMoD(network, library, estimator, constraint) # Putting it all in the model\n",
    "\n",
    "# Running model\n",
    "sparsity_scheduler = Periodic(initial_epoch=2000, periodicity=100) # Defining when to apply sparsity\n",
    "optimizer = torch.optim.Adam(model.parameters(), betas=(0.99, 0.99), amsgrad=True) # Defining optimizer"
   ]
  },
  {
   "cell_type": "code",
   "execution_count": 44,
   "metadata": {
    "tags": []
   },
   "outputs": [
    {
     "name": "stdout",
     "output_type": "stream",
     "text": [
      "| Iteration | Progress | Time remaining |     Loss |      MSE |      Reg |    L1 norm |\n",
      "       2000     20.00%             334s   -7.28e+00   4.16e-03   3.35e-05   3.20e+00 [tensor([False, False, False,  True, False,  True, False, False, False, False,\n",
      "        False, False])]\n",
      "       2100     21.00%             329s   -7.25e+00   4.19e-03   8.08e-05   2.59e+00 [tensor([False, False, False,  True, False,  True, False, False, False, False,\n",
      "        False, False])]\n",
      "       2150     21.50%             326s   -7.26e+00   4.18e-03   6.25e-05   2.59e+00 Algorithm converged. Stopping training.\n"
     ]
    }
   ],
   "source": [
    "train(model, X_train, y_train, optimizer, sparsity_scheduler, delta=0.01, log_dir='runs/NN_baseline/') # Running"
   ]
  },
  {
   "cell_type": "code",
   "execution_count": 8,
   "metadata": {},
   "outputs": [
    {
     "data": {
      "text/plain": [
       "[array([[ 0.        ],\n",
       "        [ 0.        ],\n",
       "        [ 0.        ],\n",
       "        [-0.86951667],\n",
       "        [ 0.        ],\n",
       "        [-1.68925094],\n",
       "        [ 0.        ],\n",
       "        [ 0.        ],\n",
       "        [ 0.        ],\n",
       "        [ 0.        ],\n",
       "        [ 0.        ],\n",
       "        [ 0.        ]])]"
      ]
     },
     "execution_count": 8,
     "metadata": {},
     "output_type": "execute_result"
    }
   ],
   "source": [
    "model.estimator_coeffs()"
   ]
  },
  {
   "cell_type": "code",
   "execution_count": 9,
   "metadata": {},
   "outputs": [
    {
     "data": {
      "text/plain": [
       "[tensor([[ 0.0000],\n",
       "         [ 0.0000],\n",
       "         [ 0.0000],\n",
       "         [-0.8843],\n",
       "         [ 0.0000],\n",
       "         [-1.7144],\n",
       "         [ 0.0000],\n",
       "         [ 0.0000],\n",
       "         [ 0.0000],\n",
       "         [ 0.0000],\n",
       "         [ 0.0000],\n",
       "         [ 0.0000]], grad_fn=<MaskedScatterBackward>)]"
      ]
     },
     "execution_count": 9,
     "metadata": {},
     "output_type": "execute_result"
    }
   ],
   "source": [
    "model.constraint_coeffs(sparse=True, scaled=True)"
   ]
  },
  {
   "cell_type": "markdown",
   "metadata": {},
   "source": [
    "So it did that in a single run basically. Now let's check out SIREN."
   ]
  },
  {
   "cell_type": "markdown",
   "metadata": {},
   "source": [
    "# SIREN"
   ]
  },
  {
   "cell_type": "code",
   "execution_count": 38,
   "metadata": {},
   "outputs": [],
   "source": [
    "# Configuring model\n",
    "network = Siren(2, [30, 30, 30, 30, 30], 1)  # Function approximator\n",
    "library = Library1D(poly_order=2, diff_order=3) # Library function\n",
    "estimator = Threshold(0.1) #Clustering() # Sparse estimator \n",
    "constraint = LeastSquares() # How to constrain\n",
    "model = DeepMoD(network, library, estimator, constraint) # Putting it all in the model\n",
    "\n",
    "# Running model\n",
    "sparsity_scheduler = Periodic(initial_epoch=500, periodicity=50) # Defining when to apply sparsity\n",
    "optimizer = torch.optim.Adam(model.parameters(), betas=(0.99, 0.99), amsgrad=True) # Defining optimizer"
   ]
  },
  {
   "cell_type": "code",
   "execution_count": 39,
   "metadata": {
    "tags": []
   },
   "outputs": [
    {
     "name": "stdout",
     "output_type": "stream",
     "text": [
      "| Iteration | Progress | Time remaining |     Loss |      MSE |      Reg |    L1 norm |\n",
      "        500      5.00%             471s   -7.26e+00   4.13e-03   1.96e-04   3.43e+00 [tensor([False, False, False,  True, False,  True, False, False, False, False,\n",
      "        False, False])]\n",
      "        550      5.50%             469s   -5.81e+00   5.23e-03   5.32e-03   2.50e+00 [tensor([False, False, False,  True, False,  True, False,  True, False,  True,\n",
      "        False, False])]\n",
      "        600      6.00%             468s   -6.67e+00   4.47e-03   2.12e-03   2.78e+00 [tensor([False, False, False,  True, False,  True, False, False, False, False,\n",
      "        False, False])]\n",
      "        650      6.50%             466s   -6.63e+00   4.39e-03   2.41e-03   2.53e+00 [tensor([False, False, False,  True, False,  True, False, False, False, False,\n",
      "        False, False])]\n",
      "        700      7.00%             465s   -6.94e+00   4.16e-03   1.44e-03   2.59e+00 [tensor([False, False, False,  True, False,  True, False, False, False, False,\n",
      "        False, False])]\n",
      "        750      7.50%             464s   -7.10e+00   4.17e-03   7.72e-04   2.57e+00 [tensor([False, False, False,  True, False,  True, False, False, False, False,\n",
      "        False, False])]\n",
      "        800      8.00%             461s   -7.19e+00   4.16e-03   3.91e-04   2.60e+00 [tensor([False, False, False,  True, False,  True, False, False, False, False,\n",
      "        False, False])]\n",
      "        850      8.50%             459s   -7.23e+00   4.14e-03   2.85e-04   2.60e+00 [tensor([False, False, False,  True, False,  True, False, False, False, False,\n",
      "        False, False])]\n",
      "        900      9.00%             457s   -7.26e+00   4.13e-03   1.80e-04   2.60e+00 [tensor([False, False, False,  True, False,  True, False, False, False, False,\n",
      "        False, False])]\n",
      "        950      9.50%             454s   -7.27e+00   4.13e-03   1.52e-04   2.60e+00 [tensor([False, False, False,  True, False,  True, False, False, False, False,\n",
      "        False, False])]\n",
      "       1000     10.00%             451s   -7.28e+00   4.12e-03   1.10e-04   2.60e+00 [tensor([False, False, False,  True, False,  True, False, False, False, False,\n",
      "        False, False])]\n",
      "Algorithm converged. Stopping training.\n"
     ]
    }
   ],
   "source": [
    "train(model, X_train, y_train, optimizer, sparsity_scheduler, log_dir='runs/SIREN_baseline/', delta=0.01) # Running"
   ]
  },
  {
   "cell_type": "code",
   "execution_count": 40,
   "metadata": {},
   "outputs": [
    {
     "data": {
      "text/plain": [
       "[array([[ 0.        ],\n",
       "        [ 0.        ],\n",
       "        [ 0.        ],\n",
       "        [-0.86843246],\n",
       "        [ 0.        ],\n",
       "        [-1.68680721],\n",
       "        [ 0.        ],\n",
       "        [ 0.        ],\n",
       "        [ 0.        ],\n",
       "        [ 0.        ],\n",
       "        [ 0.        ],\n",
       "        [ 0.        ]])]"
      ]
     },
     "execution_count": 40,
     "metadata": {},
     "output_type": "execute_result"
    }
   ],
   "source": [
    "model.estimator_coeffs()"
   ]
  },
  {
   "cell_type": "code",
   "execution_count": 41,
   "metadata": {},
   "outputs": [
    {
     "data": {
      "text/plain": [
       "[tensor([[ 0.0000],\n",
       "         [ 0.0000],\n",
       "         [ 0.0000],\n",
       "         [-0.0023],\n",
       "         [ 0.0000],\n",
       "         [-0.5024],\n",
       "         [ 0.0000],\n",
       "         [ 0.0000],\n",
       "         [ 0.0000],\n",
       "         [ 0.0000],\n",
       "         [ 0.0000],\n",
       "         [ 0.0000]], grad_fn=<MaskedScatterBackward>)]"
      ]
     },
     "execution_count": 41,
     "metadata": {},
     "output_type": "execute_result"
    }
   ],
   "source": [
    "model.constraint_coeffs(sparse=True, scaled=False)"
   ]
  },
  {
   "cell_type": "code",
   "execution_count": 42,
   "metadata": {},
   "outputs": [
    {
     "data": {
      "text/plain": [
       "[tensor([[ 0.0000],\n",
       "         [ 0.0000],\n",
       "         [ 0.0000],\n",
       "         [-0.8847],\n",
       "         [ 0.0000],\n",
       "         [-1.7140],\n",
       "         [ 0.0000],\n",
       "         [ 0.0000],\n",
       "         [ 0.0000],\n",
       "         [ 0.0000],\n",
       "         [ 0.0000],\n",
       "         [ 0.0000]], grad_fn=<MaskedScatterBackward>)]"
      ]
     },
     "execution_count": 42,
     "metadata": {},
     "output_type": "execute_result"
    }
   ],
   "source": [
    "model.constraint_coeffs(scaled=True, sparse=True)"
   ]
  },
  {
   "cell_type": "code",
   "execution_count": 15,
   "metadata": {},
   "outputs": [
    {
     "data": {
      "text/plain": [
       "[tensor([False,  True, False, False, False, False, False,  True, False,  True,\n",
       "         False, False])]"
      ]
     },
     "execution_count": 15,
     "metadata": {},
     "output_type": "execute_result"
    }
   ],
   "source": [
    "model.sparsity_masks"
   ]
  },
  {
   "cell_type": "markdown",
   "metadata": {},
   "source": [
    "# Conclusion"
   ]
  },
  {
   "cell_type": "markdown",
   "metadata": {},
   "source": [
    "We have a good set of parameters for which we now both work and when. let's now test the sensitivity of Siren w.r.t the first sparsity moment and check the MSE if we dont do sparsity."
   ]
  },
  {
   "cell_type": "code",
   "execution_count": null,
   "metadata": {},
   "outputs": [],
   "source": []
  }
 ],
 "metadata": {
  "kernelspec": {
   "display_name": "Python 3",
   "language": "python",
   "name": "python3"
  },
  "language_info": {
   "codemirror_mode": {
    "name": "ipython",
    "version": 3
   },
   "file_extension": ".py",
   "mimetype": "text/x-python",
   "name": "python",
   "nbconvert_exporter": "python",
   "pygments_lexer": "ipython3",
   "version": "3.8.3"
  }
 },
 "nbformat": 4,
 "nbformat_minor": 4
}
