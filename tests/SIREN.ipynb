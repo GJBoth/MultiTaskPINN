{
 "cells": [
  {
   "cell_type": "code",
   "execution_count": 1,
   "metadata": {},
   "outputs": [],
   "source": [
    "# General imports\n",
    "import numpy as np\n",
    "import torch\n",
    "\n",
    "# DeepMoD stuff\n",
    "from deepymod_torch import DeepMoD\n",
    "from deepymod_torch.model.func_approx import NN, Siren\n",
    "from deepymod_torch.model.library import Library1D\n",
    "from deepymod_torch.model.constraint import LeastSquares\n",
    "from deepymod_torch.model.sparse_estimators import Clustering, Threshold\n",
    "from deepymod_torch.training import train\n",
    "from deepymod_torch.training.sparsity_scheduler import Periodic\n",
    "from phimal_utilities.data import Dataset\n",
    "from phimal_utilities.data.burgers import BurgersDelta\n",
    "from math import pi\n",
    "\n",
    "import matplotlib.pyplot as plt\n",
    "\n",
    "# Setting cuda\n",
    "if torch.cuda.is_available():\n",
    "    torch.set_default_tensor_type('torch.cuda.FloatTensor')\n",
    "\n",
    "# Settings for reproducibility\n",
    "np.random.seed(42)\n",
    "torch.manual_seed(0)\n",
    "torch.backends.cudnn.deterministic = True\n",
    "torch.backends.cudnn.benchmark = False\n",
    "\n",
    "%load_ext autoreload\n",
    "%autoreload 2"
   ]
  },
  {
   "cell_type": "code",
   "execution_count": 2,
   "metadata": {},
   "outputs": [],
   "source": [
    "# Making data\n",
    "v = 0.1\n",
    "A = 1.0\n",
    "x = np.linspace(-3, 4, 100)\n",
    "t = np.linspace(0.5, 5.0, 50)\n",
    "\n",
    "x_grid, t_grid = np.meshgrid(x, t, indexing='ij')\n",
    "dataset = Dataset(BurgersDelta, v=v, A=A)\n",
    "X_train, y_train = dataset.create_dataset(x_grid.reshape(-1, 1), t_grid.reshape(-1, 1), n_samples=2000, noise=0.4, normalize=True)"
   ]
  },
  {
   "cell_type": "code",
   "execution_count": 3,
   "metadata": {},
   "outputs": [
    {
     "data": {
      "text/plain": [
       "tensor([[ 1.0000,  0.6970],\n",
       "        [ 0.9592, -0.8182],\n",
       "        [ 0.7959, -0.6768],\n",
       "        ...,\n",
       "        [ 0.5918, -0.6162],\n",
       "        [-0.5102,  0.0505],\n",
       "        [ 0.1837,  0.0303]])"
      ]
     },
     "execution_count": 3,
     "metadata": {},
     "output_type": "execute_result"
    }
   ],
   "source": [
    "X_train"
   ]
  },
  {
   "cell_type": "markdown",
   "metadata": {},
   "source": [
    "Note that they are normalized:"
   ]
  },
  {
   "cell_type": "code",
   "execution_count": 4,
   "metadata": {},
   "outputs": [
    {
     "data": {
      "text/plain": [
       "torch.return_types.max(\n",
       "values=tensor([1., 1.]),\n",
       "indices=tensor([1994, 1884]))"
      ]
     },
     "execution_count": 4,
     "metadata": {},
     "output_type": "execute_result"
    }
   ],
   "source": [
    "X_train.max(dim=0)"
   ]
  },
  {
   "cell_type": "code",
   "execution_count": 5,
   "metadata": {},
   "outputs": [
    {
     "data": {
      "text/plain": [
       "torch.return_types.min(\n",
       "values=tensor([-1., -1.]),\n",
       "indices=tensor([1893, 1964]))"
      ]
     },
     "execution_count": 5,
     "metadata": {},
     "output_type": "execute_result"
    }
   ],
   "source": [
    "X_train.min(dim=0)"
   ]
  },
  {
   "cell_type": "markdown",
   "metadata": {},
   "source": [
    "# Normal NN baseline"
   ]
  },
  {
   "cell_type": "code",
   "execution_count": 6,
   "metadata": {},
   "outputs": [],
   "source": [
    "# Configuring model\n",
    "network = NN(2, [30, 30, 30, 30, 30], 1)  # Function approximator\n",
    "library = Library1D(poly_order=2, diff_order=3) # Library function\n",
    "estimator = Threshold(0.1) #Clustering() # Sparse estimator \n",
    "constraint = LeastSquares() # How to constrain\n",
    "model = DeepMoD(network, library, estimator, constraint) # Putting it all in the model\n",
    "\n",
    "# Running model\n",
    "sparsity_scheduler = Periodic(initial_epoch=1000, periodicity=100) # Defining when to apply sparsity\n",
    "optimizer = torch.optim.Adam(model.parameters(), betas=(0.99, 0.999), amsgrad=True) # Defining optimizer"
   ]
  },
  {
   "cell_type": "code",
   "execution_count": 7,
   "metadata": {},
   "outputs": [
    {
     "name": "stdout",
     "output_type": "stream",
     "text": [
      "| Iteration | Progress | Time remaining |     Loss |      MSE |      Reg |    L1 norm |\n",
      "       1000     10.00%             507s   -6.71e+00   5.51e-03   9.68e-05   3.45e+00 [tensor([False,  True,  True, False,  True,  True, False, False,  True, False,\n",
      "         True, False])]\n",
      "       1100     11.00%             495s   -6.69e+00   5.51e-03   2.11e-04   2.13e+00 [tensor([False,  True,  True, False,  True,  True, False, False,  True, False,\n",
      "         True, False])]\n",
      "       1200     12.00%             485s   -6.71e+00   5.49e-03   1.53e-04   2.01e+00 [tensor([False,  True,  True, False,  True,  True, False, False,  True, False,\n",
      "        False, False])]\n",
      "       1300     13.00%             475s   -6.71e+00   5.50e-03   1.35e-04   1.62e+00 [tensor([False,  True,  True, False, False,  True, False, False,  True, False,\n",
      "        False, False])]\n",
      "       1400     14.00%             477s   -6.72e+00   5.46e-03   1.29e-04   1.44e+00 [tensor([False,  True,  True, False, False,  True, False, False, False, False,\n",
      "        False, False])]\n",
      "       1500     15.00%             471s   -6.73e+00   5.44e-03   1.09e-04   1.44e+00 [tensor([False, False,  True, False, False,  True, False, False, False, False,\n",
      "        False, False])]\n",
      "       1600     16.00%             460s   -6.74e+00   5.43e-03   9.56e-05   1.45e+00 [tensor([False, False,  True, False, False,  True, False, False, False, False,\n",
      "        False, False])]\n",
      "       1700     17.00%             451s   -6.75e+00   5.42e-03   7.07e-05   1.45e+00 [tensor([False, False,  True, False, False,  True, False, False, False, False,\n",
      "        False, False])]\n",
      "Algorithm converged. Stopping training.\n"
     ]
    }
   ],
   "source": [
    "train(model, X_train, y_train, optimizer, sparsity_scheduler, delta=0.01, patience=200) # Running"
   ]
  },
  {
   "cell_type": "code",
   "execution_count": 8,
   "metadata": {},
   "outputs": [
    {
     "data": {
      "text/plain": [
       "[tensor([False, False,  True, False, False,  True, False, False, False, False,\n",
       "         False, False])]"
      ]
     },
     "execution_count": 8,
     "metadata": {},
     "output_type": "execute_result"
    }
   ],
   "source": [
    "# Sparsity masks access to see which terms are active\n",
    "model.sparsity_masks"
   ]
  },
  {
   "cell_type": "code",
   "execution_count": 9,
   "metadata": {},
   "outputs": [
    {
     "data": {
      "text/plain": [
       "[array([[ 0.        ],\n",
       "        [ 0.        ],\n",
       "        [ 0.51967191],\n",
       "        [ 0.        ],\n",
       "        [ 0.        ],\n",
       "        [-0.90591649],\n",
       "        [ 0.        ],\n",
       "        [ 0.        ],\n",
       "        [ 0.        ],\n",
       "        [ 0.        ],\n",
       "        [ 0.        ],\n",
       "        [ 0.        ]])]"
      ]
     },
     "execution_count": 9,
     "metadata": {},
     "output_type": "execute_result"
    }
   ],
   "source": [
    "# These are the coefficients found by the sparsity estimator, i.e. scaled and biased by L1 (often)\n",
    "model.estimator_coeffs()"
   ]
  },
  {
   "cell_type": "code",
   "execution_count": 10,
   "metadata": {},
   "outputs": [
    {
     "data": {
      "text/plain": [
       "[tensor([[ 0.0171],\n",
       "         [-0.6585]], grad_fn=<MmBackward>)]"
      ]
     },
     "execution_count": 10,
     "metadata": {},
     "output_type": "execute_result"
    }
   ],
   "source": [
    "# Constraint coefficients as in the constraint\n",
    "model.constraint_coeffs(scaled=False, sparse=False)"
   ]
  },
  {
   "cell_type": "code",
   "execution_count": 11,
   "metadata": {},
   "outputs": [
    {
     "data": {
      "text/plain": [
       "[tensor([[ 0.5268],\n",
       "         [-0.9255]], grad_fn=<DivBackward0>)]"
      ]
     },
     "execution_count": 11,
     "metadata": {},
     "output_type": "execute_result"
    }
   ],
   "source": [
    "# For normalized coefficients, set scaled to True\n",
    "model.constraint_coeffs(scaled=True, sparse=False)"
   ]
  },
  {
   "cell_type": "code",
   "execution_count": 12,
   "metadata": {},
   "outputs": [
    {
     "data": {
      "text/plain": [
       "[tensor([[ 0.0000],\n",
       "         [ 0.0000],\n",
       "         [ 0.5268],\n",
       "         [ 0.0000],\n",
       "         [ 0.0000],\n",
       "         [-0.9255],\n",
       "         [ 0.0000],\n",
       "         [ 0.0000],\n",
       "         [ 0.0000],\n",
       "         [ 0.0000],\n",
       "         [ 0.0000],\n",
       "         [ 0.0000]], grad_fn=<MaskedScatterBackward>)]"
      ]
     },
     "execution_count": 12,
     "metadata": {},
     "output_type": "execute_result"
    }
   ],
   "source": [
    "# If we want the full vector (i.e. with the zeros), set sparse to true\n",
    "model.constraint_coeffs(scaled=True, sparse=True)"
   ]
  },
  {
   "cell_type": "markdown",
   "metadata": {},
   "source": [
    "# SIREN "
   ]
  },
  {
   "cell_type": "markdown",
   "metadata": {},
   "source": [
    "Siren model has the same API as our normal NN:"
   ]
  },
  {
   "cell_type": "code",
   "execution_count": 24,
   "metadata": {},
   "outputs": [],
   "source": [
    "# Configuring model\n",
    "network = Siren(2, [30, 30, 30, 30, 30], 1)\n",
    "library = Library1D(poly_order=2, diff_order=3) # Library function\n",
    "estimator = Threshold(0.1) #Clustering() # Sparse estimator \n",
    "constraint = LeastSquares() # How to constrain\n",
    "model = DeepMoD(network, library, estimator, constraint) # Putting it all in the model\n",
    "\n",
    "# Running model\n",
    "sparsity_scheduler = Periodic(initial_epoch=100, periodicity=10) # Defining when to apply sparsity\n",
    "optimizer = torch.optim.Adam(model.parameters(), betas=(0.99, 0.999), amsgrad=True) # Defining optimizer"
   ]
  },
  {
   "cell_type": "code",
   "execution_count": 25,
   "metadata": {},
   "outputs": [
    {
     "name": "stdout",
     "output_type": "stream",
     "text": [
      "| Iteration | Progress | Time remaining |     Loss |      MSE |      Reg |    L1 norm |\n",
      "        100      1.00%             615s   -6.32e+00   6.06e-03   1.28e-03   2.99e+00 [tensor([False,  True,  True, False,  True,  True, False, False,  True,  True,\n",
      "        False, False])]\n",
      "[tensor([False,  True,  True, False,  True,  True, False, False,  True,  True,\n",
      "        False, False])]\n",
      "[tensor([False,  True,  True, False,  True,  True, False, False,  True, False,\n",
      "        False, False])]\n",
      "        125      1.25%             630s   -6.49e+00   5.77e-03   8.37e-04   2.39e+00 [tensor([False,  True,  True, False,  True,  True, False, False,  True, False,\n",
      "        False, False])]\n",
      "[tensor([False,  True,  True, False,  True,  True, False, False,  True, False,\n",
      "        False, False])]\n",
      "        150      1.50%             636s   -6.59e+00   5.63e-03   5.40e-04   2.19e+00 [tensor([False,  True,  True, False,  True,  True, False, False,  True, False,\n",
      "        False, False])]\n",
      "[tensor([False,  True,  True, False,  True,  True, False, False,  True, False,\n",
      "        False, False])]\n",
      "[tensor([False,  True,  True, False,  True,  True, False, False,  True, False,\n",
      "        False, False])]\n",
      "        175      1.75%             643s   -6.65e+00   5.53e-03   3.81e-04   2.01e+00 [tensor([False,  True,  True, False,  True,  True, False, False,  True, False,\n",
      "        False, False])]\n",
      "[tensor([False,  True,  True, False,  True,  True, False, False,  True, False,\n",
      "        False, False])]\n",
      "        200      2.00%             654s   -6.68e+00   5.48e-03   3.02e-04   1.87e+00 [tensor([False,  True,  True, False,  True,  True, False, False,  True, False,\n",
      "        False, False])]\n",
      "[tensor([False,  True,  True, False,  True,  True, False, False,  True, False,\n",
      "        False, False])]\n",
      "[tensor([False,  True,  True, False,  True,  True, False, False,  True, False,\n",
      "        False, False])]\n",
      "        225      2.25%             681s   -6.72e+00   5.43e-03   2.18e-04   1.71e+00 [tensor([False, False,  True, False,  True,  True, False, False,  True, False,\n",
      "        False, False])]\n",
      "[tensor([False, False,  True, False, False,  True, False, False, False, False,\n",
      "        False, False])]\n",
      "        250      2.50%             687s   -6.70e+00   5.44e-03   2.63e-04   1.45e+00 [tensor([False, False,  True, False, False,  True, False, False, False, False,\n",
      "        False, False])]\n",
      "[tensor([False, False,  True, False, False,  True, False, False, False, False,\n",
      "        False, False])]\n",
      "[tensor([False, False,  True, False, False,  True, False, False, False, False,\n",
      "        False, False])]\n",
      "        275      2.75%             690s   -6.73e+00   5.39e-03   2.16e-04   1.45e+00 [tensor([False, False,  True, False, False,  True, False, False, False, False,\n",
      "        False, False])]\n",
      "[tensor([False, False,  True, False, False,  True, False, False, False, False,\n",
      "        False, False])]\n",
      "        300      3.00%             691s   -6.74e+00   5.39e-03   1.69e-04   1.47e+00 [tensor([False, False,  True, False, False,  True, False, False, False, False,\n",
      "        False, False])]\n",
      "[tensor([False, False,  True, False, False,  True, False, False, False, False,\n",
      "        False, False])]\n",
      "[tensor([False, False,  True, False, False,  True, False, False, False, False,\n",
      "        False, False])]\n",
      "        325      3.25%             707s   -6.75e+00   5.38e-03   1.50e-04   1.45e+00 [tensor([False, False,  True, False, False,  True, False, False, False, False,\n",
      "        False, False])]\n",
      "[tensor([False, False,  True, False, False,  True, False, False, False, False,\n",
      "        False, False])]\n",
      "        350      3.50%             706s   -6.75e+00   5.38e-03   1.27e-04   1.45e+00 [tensor([False, False,  True, False, False,  True, False, False, False, False,\n",
      "        False, False])]\n",
      "[tensor([False, False,  True, False, False,  True, False, False, False, False,\n",
      "        False, False])]\n",
      "[tensor([False, False,  True, False, False,  True, False, False, False, False,\n",
      "        False, False])]\n",
      "        375      3.75%             703s   -6.76e+00   5.37e-03   9.90e-05   1.45e+00 [tensor([False, False,  True, False, False,  True, False, False, False, False,\n",
      "        False, False])]\n",
      "[tensor([False, False,  True, False, False,  True, False, False, False, False,\n",
      "        False, False])]\n",
      "        400      4.00%             697s   -6.76e+00   5.36e-03   8.91e-05   1.46e+00 [tensor([False, False,  True, False, False,  True, False, False, False, False,\n",
      "        False, False])]\n",
      "[tensor([False, False,  True, False, False,  True, False, False, False, False,\n",
      "        False, False])]\n",
      "[tensor([False, False,  True, False, False,  True, False, False, False, False,\n",
      "        False, False])]\n",
      "        425      4.25%             698s   -6.77e+00   5.36e-03   7.91e-05   1.45e+00 [tensor([False, False,  True, False, False,  True, False, False, False, False,\n",
      "        False, False])]\n",
      "[tensor([False, False,  True, False, False,  True, False, False, False, False,\n",
      "        False, False])]\n",
      "        450      4.50%             695s   -6.77e+00   5.35e-03   7.52e-05   1.45e+00 [tensor([False, False,  True, False, False,  True, False, False, False, False,\n",
      "        False, False])]\n",
      "[tensor([False, False,  True, False, False,  True, False, False, False, False,\n",
      "        False, False])]\n",
      "[tensor([False, False,  True, False, False,  True, False, False, False, False,\n",
      "        False, False])]\n",
      "        475      4.75%             691s   -6.77e+00   5.36e-03   6.84e-05   1.46e+00 [tensor([False, False,  True, False, False,  True, False, False, False, False,\n",
      "        False, False])]\n",
      "[tensor([False, False,  True, False, False,  True, False, False, False, False,\n",
      "        False, False])]\n",
      "        500      5.00%             687s   -6.77e+00   5.35e-03   6.99e-05   1.45e+00 [tensor([False, False,  True, False, False,  True, False, False, False, False,\n",
      "        False, False])]\n",
      "[tensor([False, False,  True, False, False,  True, False, False, False, False,\n",
      "        False, False])]\n",
      "[tensor([False, False,  True, False, False,  True, False, False, False, False,\n",
      "        False, False])]\n",
      "        525      5.25%             686s   -6.78e+00   5.34e-03   6.26e-05   1.45e+00 [tensor([False, False,  True, False, False,  True, False, False, False, False,\n",
      "        False, False])]\n",
      "[tensor([False, False,  True, False, False,  True, False, False, False, False,\n",
      "        False, False])]\n",
      "        550      5.50%             682s   -6.78e+00   5.34e-03   6.43e-05   1.45e+00 [tensor([False, False,  True, False, False,  True, False, False, False, False,\n",
      "        False, False])]\n",
      "[tensor([False, False,  True, False, False,  True, False, False, False, False,\n",
      "        False, False])]\n",
      "[tensor([False, False,  True, False, False,  True, False, False, False, False,\n",
      "        False, False])]\n",
      "        575      5.75%             680s   -6.78e+00   5.34e-03   6.24e-05   1.45e+00 [tensor([False, False,  True, False, False,  True, False, False, False, False,\n",
      "        False, False])]\n",
      "[tensor([False, False,  True, False, False,  True, False, False, False, False,\n",
      "        False, False])]\n",
      "        600      6.00%             676s   -6.78e+00   5.33e-03   6.33e-05   1.45e+00 [tensor([False, False,  True, False, False,  True, False, False, False, False,\n",
      "        False, False])]\n",
      "[tensor([False, False,  True, False, False,  True, False, False, False, False,\n",
      "        False, False])]\n",
      "[tensor([False, False,  True, False, False,  True, False, False, False, False,\n",
      "        False, False])]\n",
      "        625      6.25%             673s   -6.78e+00   5.33e-03   5.92e-05   1.45e+00 [tensor([False, False,  True, False, False,  True, False, False, False, False,\n",
      "        False, False])]\n",
      "[tensor([False, False,  True, False, False,  True, False, False, False, False,\n",
      "        False, False])]\n",
      "        650      6.50%             670s   -6.78e+00   5.32e-03   6.12e-05   1.45e+00 [tensor([False, False,  True, False, False,  True, False, False, False, False,\n",
      "        False, False])]\n",
      "[tensor([False, False,  True, False, False,  True, False, False, False, False,\n",
      "        False, False])]\n",
      "[tensor([False, False,  True, False, False,  True, False, False, False, False,\n",
      "        False, False])]\n",
      "        675      6.75%             667s   -6.78e+00   5.32e-03   6.27e-05   1.46e+00 [tensor([False, False,  True, False, False,  True, False, False, False, False,\n",
      "        False, False])]\n",
      "[tensor([False, False,  True, False, False,  True, False, False, False, False,\n",
      "        False, False])]\n",
      "        700      7.00%             663s   -6.79e+00   5.32e-03   6.09e-05   1.46e+00 [tensor([False, False,  True, False, False,  True, False, False, False, False,\n",
      "        False, False])]\n",
      "[tensor([False, False,  True, False, False,  True, False, False, False, False,\n",
      "        False, False])]\n",
      "[tensor([False, False,  True, False, False,  True, False, False, False, False,\n",
      "        False, False])]\n",
      "        725      7.25%             661s   -6.79e+00   5.31e-03   6.95e-05   1.46e+00 Algorithm converged. Stopping training.\n"
     ]
    }
   ],
   "source": [
    "train(model, X_train, y_train, optimizer, sparsity_scheduler, log_dir='runs/SIREN/', delta=0.01, patience=200) # Running"
   ]
  },
  {
   "cell_type": "code",
   "execution_count": 26,
   "metadata": {},
   "outputs": [
    {
     "data": {
      "text/plain": [
       "[tensor([False, False,  True, False, False,  True, False, False, False, False,\n",
       "         False, False])]"
      ]
     },
     "execution_count": 26,
     "metadata": {},
     "output_type": "execute_result"
    }
   ],
   "source": [
    "# Sparsity masks access to see which terms are active\n",
    "model.sparsity_masks"
   ]
  },
  {
   "cell_type": "code",
   "execution_count": 27,
   "metadata": {},
   "outputs": [
    {
     "data": {
      "text/plain": [
       "[array([[ 0.        ],\n",
       "        [ 0.        ],\n",
       "        [ 0.56298902],\n",
       "        [ 0.        ],\n",
       "        [ 0.        ],\n",
       "        [-0.88654473],\n",
       "        [ 0.        ],\n",
       "        [ 0.        ],\n",
       "        [ 0.        ],\n",
       "        [ 0.        ],\n",
       "        [ 0.        ],\n",
       "        [ 0.        ]])]"
      ]
     },
     "execution_count": 27,
     "metadata": {},
     "output_type": "execute_result"
    }
   ],
   "source": [
    "# These are the coefficients found by the sparsity estimator, i.e. scaled and biased by L1 (often)\n",
    "model.estimator_coeffs()"
   ]
  },
  {
   "cell_type": "code",
   "execution_count": 28,
   "metadata": {},
   "outputs": [
    {
     "data": {
      "text/plain": [
       "[tensor([[ 0.0176],\n",
       "         [-0.6526]], grad_fn=<MmBackward>)]"
      ]
     },
     "execution_count": 28,
     "metadata": {},
     "output_type": "execute_result"
    }
   ],
   "source": [
    "# Constraint coefficients as in the constraint\n",
    "model.constraint_coeffs(scaled=False, sparse=False)"
   ]
  },
  {
   "cell_type": "code",
   "execution_count": 29,
   "metadata": {},
   "outputs": [
    {
     "data": {
      "text/plain": [
       "[tensor([[ 0.5698],\n",
       "         [-0.8896]], grad_fn=<DivBackward0>)]"
      ]
     },
     "execution_count": 29,
     "metadata": {},
     "output_type": "execute_result"
    }
   ],
   "source": [
    "# For normalized coefficients, set scaled to True\n",
    "model.constraint_coeffs(scaled=True, sparse=False)"
   ]
  },
  {
   "cell_type": "code",
   "execution_count": 30,
   "metadata": {},
   "outputs": [
    {
     "data": {
      "text/plain": [
       "[tensor([[ 0.0000],\n",
       "         [ 0.0000],\n",
       "         [ 0.5698],\n",
       "         [ 0.0000],\n",
       "         [ 0.0000],\n",
       "         [-0.8896],\n",
       "         [ 0.0000],\n",
       "         [ 0.0000],\n",
       "         [ 0.0000],\n",
       "         [ 0.0000],\n",
       "         [ 0.0000],\n",
       "         [ 0.0000]], grad_fn=<MaskedScatterBackward>)]"
      ]
     },
     "execution_count": 30,
     "metadata": {},
     "output_type": "execute_result"
    }
   ],
   "source": [
    "# If we want the full vector (i.e. with the zeros), set sparse to true\n",
    "model.constraint_coeffs(scaled=True, sparse=True)"
   ]
  },
  {
   "cell_type": "markdown",
   "metadata": {},
   "source": [
    "So SIREN didn't work...."
   ]
  },
  {
   "cell_type": "code",
   "execution_count": null,
   "metadata": {},
   "outputs": [],
   "source": []
  }
 ],
 "metadata": {
  "kernelspec": {
   "display_name": "Python 3",
   "language": "python",
   "name": "python3"
  },
  "language_info": {
   "codemirror_mode": {
    "name": "ipython",
    "version": 3
   },
   "file_extension": ".py",
   "mimetype": "text/x-python",
   "name": "python",
   "nbconvert_exporter": "python",
   "pygments_lexer": "ipython3",
   "version": "3.7.6"
  }
 },
 "nbformat": 4,
 "nbformat_minor": 4
}
