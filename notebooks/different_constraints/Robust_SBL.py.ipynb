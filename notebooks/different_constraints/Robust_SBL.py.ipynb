{
 "cells": [
  {
   "cell_type": "code",
   "execution_count": 1,
   "metadata": {},
   "outputs": [],
   "source": [
    "# General imports\n",
    "import numpy as np\n",
    "import torch\n",
    "\n",
    "from deepymod.data import Dataset\n",
    "from deepymod.data.burgers import BurgersDelta\n",
    "from sklearn.linear_model import ARDRegression\n",
    "\n",
    "import seaborn as sns\n",
    "sns.set()"
   ]
  },
  {
   "cell_type": "markdown",
   "metadata": {},
   "source": [
    "# Making data"
   ]
  },
  {
   "cell_type": "code",
   "execution_count": 79,
   "metadata": {},
   "outputs": [
    {
     "name": "stdout",
     "output_type": "stream",
     "text": [
      "(5000, 1) (5000, 12)\n"
     ]
    }
   ],
   "source": [
    "# Making dataset\n",
    "v = 0.1\n",
    "A = 1.0\n",
    "\n",
    "x = np.linspace(-3, 4, 100)\n",
    "t = np.linspace(0.5, 5.0, 50)\n",
    "x_grid, t_grid = np.meshgrid(x, t, indexing='ij')\n",
    "dataset = Dataset(BurgersDelta, v=v, A=A)\n",
    "\n",
    "y = dataset.time_deriv(x_grid.reshape(-1, 1), t_grid.reshape(-1, 1)) # observations\n",
    "X = dataset.library(x_grid.reshape(-1, 1), t_grid.reshape(-1, 1), poly_order=2, deriv_order=3) # covariates\n",
    "\n",
    "print(y.shape, X.shape)"
   ]
  },
  {
   "cell_type": "code",
   "execution_count": 80,
   "metadata": {},
   "outputs": [],
   "source": [
    "y += np.std(y) * 0.5 * np.random.randn(*y.shape)"
   ]
  },
  {
   "cell_type": "code",
   "execution_count": 81,
   "metadata": {},
   "outputs": [
    {
     "data": {
      "text/plain": [
       "125.23979797653257"
      ]
     },
     "execution_count": 81,
     "metadata": {},
     "output_type": "execute_result"
    }
   ],
   "source": [
    "1 / (np.std(y) * 0.5)**2"
   ]
  },
  {
   "cell_type": "code",
   "execution_count": 82,
   "metadata": {},
   "outputs": [],
   "source": [
    "X = X / np.linalg.norm(X, axis=0, keepdims=True)"
   ]
  },
  {
   "cell_type": "markdown",
   "metadata": {},
   "source": [
    "# Own implementation"
   ]
  },
  {
   "cell_type": "code",
   "execution_count": 69,
   "metadata": {},
   "outputs": [],
   "source": [
    "def robust_SBL(X, y, alpha_, beta_, lambda_):\n",
    "    N, M = X.shape[0], X.shape[1]\n",
    "    \n",
    "    gram = X.T @ X\n",
    "    sigma = torch.inverse(torch.diag(1/alpha_) + gram)\n",
    "    mn = sigma @ X.T @ y\n",
    "    \n",
    "    p = - N * torch.log(beta_) - torch.logdet(torch.eye(M) -  gram @ sigma) + beta_ * (y.T @ y - y.T @ X @ mn)\n",
    "    p += -2 * N * torch.log(lambda_/2) + lambda_ * torch.sum(alpha_) - torch.log(lambda_) + torch.log(beta_)\n",
    "    return p, mn"
   ]
  },
  {
   "cell_type": "code",
   "execution_count": 70,
   "metadata": {},
   "outputs": [
    {
     "name": "stderr",
     "output_type": "stream",
     "text": [
      "<ipython-input-70-b8c19319fde4>:2: UserWarning: To copy construct from a tensor, it is recommended to use sourceTensor.clone().detach() or sourceTensor.clone().detach().requires_grad_(True), rather than torch.tensor(sourceTensor).\n",
      "  X = torch.tensor(X, dtype=torch.float32)\n",
      "<ipython-input-70-b8c19319fde4>:3: UserWarning: To copy construct from a tensor, it is recommended to use sourceTensor.clone().detach() or sourceTensor.clone().detach().requires_grad_(True), rather than torch.tensor(sourceTensor).\n",
      "  y = torch.tensor(y, dtype=torch.float32)\n"
     ]
    }
   ],
   "source": [
    "# Now let's optimize\n",
    "X = torch.tensor(X, dtype=torch.float32)\n",
    "y = torch.tensor(y, dtype=torch.float32)\n",
    "\n",
    "a = torch.nn.Parameter(torch.zeros(12, dtype=torch.float32))\n",
    "b = torch.nn.Parameter(-torch.log(torch.var(y)))\n",
    "l = torch.nn.Parameter(torch.zeros(1, dtype=torch.float32))\n",
    "\n",
    "optimizer = torch.optim.Adam([a, b, l], lr=1e-2)\n",
    "max_epochs=1e4"
   ]
  },
  {
   "cell_type": "code",
   "execution_count": 71,
   "metadata": {},
   "outputs": [
    {
     "name": "stdout",
     "output_type": "stream",
     "text": [
      "tensor([[-7985.3540]], grad_fn=<AddBackward0>)\n",
      "tensor([[-98543.9062]], grad_fn=<AddBackward0>)\n",
      "tensor([[-189124.5781]], grad_fn=<AddBackward0>)\n",
      "tensor([[-189376.6406]], grad_fn=<AddBackward0>)\n",
      "tensor([[-189402.6562]], grad_fn=<AddBackward0>)\n",
      "tensor([[-189411.7188]], grad_fn=<AddBackward0>)\n",
      "tensor([[-189415.8906]], grad_fn=<AddBackward0>)\n",
      "tensor([[-189418.0781]], grad_fn=<AddBackward0>)\n",
      "tensor([[-189419.2969]], grad_fn=<AddBackward0>)\n",
      "tensor([[-189420.]], grad_fn=<AddBackward0>)\n"
     ]
    }
   ],
   "source": [
    "for epoch in torch.arange(max_epochs):\n",
    "    alpha_ = torch.exp(a).clamp(max=1e8)\n",
    "    beta_ = torch.exp(b).clamp(max=1e8)\n",
    "    lambda_ = torch.exp(l).clamp(max=1e8)\n",
    "    loss = robust_SBL(X, y, alpha_, beta_, lambda_)[0]\n",
    "    optimizer.zero_grad()\n",
    "    loss.backward()\n",
    "    optimizer.step()\n",
    "    if epoch % 1000 == 0:\n",
    "        print(loss)"
   ]
  },
  {
   "cell_type": "code",
   "execution_count": 72,
   "metadata": {},
   "outputs": [
    {
     "data": {
      "text/plain": [
       "tensor([4.3890e-11, 1.5725e-09, 1.9485e-09, 7.0646e-11, 2.5093e-11, 1.3985e-09,\n",
       "        1.0690e-10, 1.1384e-10, 1.4369e-10, 7.4551e-10, 9.2023e-12, 4.3529e-11],\n",
       "       grad_fn=<ClampBackward>)"
      ]
     },
     "execution_count": 72,
     "metadata": {},
     "output_type": "execute_result"
    }
   ],
   "source": [
    "alpha_"
   ]
  },
  {
   "cell_type": "code",
   "execution_count": 73,
   "metadata": {},
   "outputs": [
    {
     "name": "stdout",
     "output_type": "stream",
     "text": [
      "tensor([[ 5.2248e-12],\n",
      "        [-1.4698e-08],\n",
      "        [ 9.4517e-09],\n",
      "        [ 4.8987e-10],\n",
      "        [-6.9351e-11],\n",
      "        [-1.2400e-08],\n",
      "        [ 2.9541e-10],\n",
      "        [ 8.5535e-10],\n",
      "        [-6.1102e-10],\n",
      "        [-5.6079e-09],\n",
      "        [ 2.0429e-11],\n",
      "        [ 2.9408e-10]], grad_fn=<MmBackward>)\n"
     ]
    }
   ],
   "source": [
    "mn = robust_SBL(X, y, alpha_, beta_, lambda_)[1]\n",
    "print(mn)"
   ]
  },
  {
   "cell_type": "code",
   "execution_count": 74,
   "metadata": {},
   "outputs": [
    {
     "data": {
      "text/plain": [
       "tensor([[ 5.2248e-12],\n",
       "        [-1.4698e-08],\n",
       "        [ 9.4517e-09],\n",
       "        [ 4.8987e-10],\n",
       "        [-6.9351e-11],\n",
       "        [-1.2400e-08],\n",
       "        [ 2.9541e-10],\n",
       "        [ 8.5535e-10],\n",
       "        [-6.1102e-10],\n",
       "        [-5.6079e-09],\n",
       "        [ 2.0429e-11],\n",
       "        [ 2.9408e-10]], grad_fn=<MmBackward>)"
      ]
     },
     "execution_count": 74,
     "metadata": {},
     "output_type": "execute_result"
    }
   ],
   "source": [
    "mn"
   ]
  },
  {
   "cell_type": "code",
   "execution_count": 76,
   "metadata": {},
   "outputs": [
    {
     "data": {
      "text/plain": [
       "tensor([100000000.], grad_fn=<ClampBackward>)"
      ]
     },
     "execution_count": 76,
     "metadata": {},
     "output_type": "execute_result"
    }
   ],
   "source": [
    "lambda_"
   ]
  },
  {
   "cell_type": "code",
   "execution_count": 33,
   "metadata": {},
   "outputs": [
    {
     "data": {
      "text/plain": [
       "tensor(155.3127, grad_fn=<ClampBackward>)"
      ]
     },
     "execution_count": 33,
     "metadata": {},
     "output_type": "execute_result"
    }
   ],
   "source": [
    "beta_"
   ]
  },
  {
   "cell_type": "code",
   "execution_count": 77,
   "metadata": {},
   "outputs": [
    {
     "data": {
      "text/plain": [
       "Parameter containing:\n",
       "tensor([-23.8498, -20.2711, -20.0567, -23.3738, -24.4089, -20.3884, -22.9597,\n",
       "        -22.8968, -22.6639, -21.0175, -25.4121, -23.8581], requires_grad=True)"
      ]
     },
     "execution_count": 77,
     "metadata": {},
     "output_type": "execute_result"
    }
   ],
   "source": [
    "a"
   ]
  },
  {
   "cell_type": "code",
   "execution_count": null,
   "metadata": {},
   "outputs": [],
   "source": []
  }
 ],
 "metadata": {
  "kernelspec": {
   "display_name": "Python 3",
   "language": "python",
   "name": "python3"
  },
  "language_info": {
   "codemirror_mode": {
    "name": "ipython",
    "version": 3
   },
   "file_extension": ".py",
   "mimetype": "text/x-python",
   "name": "python",
   "nbconvert_exporter": "python",
   "pygments_lexer": "ipython3",
   "version": "3.8.3"
  }
 },
 "nbformat": 4,
 "nbformat_minor": 4
}
