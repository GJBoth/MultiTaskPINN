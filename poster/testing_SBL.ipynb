{
 "cells": [
  {
   "cell_type": "code",
   "execution_count": 1,
   "metadata": {},
   "outputs": [],
   "source": [
    "# %% General imports\n",
    "import numpy as np\n",
    "import torch\n",
    "\n",
    "# DeepMoD stuff\n",
    "from deepymod.data import Dataset\n",
    "from deepymod.data.burgers import BurgersDelta\n",
    "\n",
    "%load_ext autoreload\n",
    "%autoreload 2"
   ]
  },
  {
   "cell_type": "code",
   "execution_count": 2,
   "metadata": {},
   "outputs": [],
   "source": [
    "# Settings\n",
    "#if torch.cuda.is_available():\n",
    "#    device = 'cuda'\n",
    "#else:\n",
    "#    device = 'cpu'\n",
    "\n",
    "device = 'cpu'\n",
    "\n",
    "# Settings for reproducibility\n",
    "np.random.seed(42)\n",
    "torch.manual_seed(0)\n",
    "torch.backends.cudnn.deterministic = True\n",
    "torch.backends.cudnn.benchmark = False"
   ]
  },
  {
   "cell_type": "markdown",
   "metadata": {},
   "source": [
    "# Making dataset"
   ]
  },
  {
   "cell_type": "code",
   "execution_count": 5,
   "metadata": {},
   "outputs": [],
   "source": [
    "# Making dataset\n",
    "v = 0.1\n",
    "A = 1.0\n",
    "\n",
    "x = np.linspace(-3, 4, 40)\n",
    "t = np.linspace(0.1, 5.0, 25)\n",
    "x_grid, t_grid = np.meshgrid(x, t, indexing='ij')\n",
    "dataset = Dataset(BurgersDelta, v=v, A=A)\n",
    "X, y = dataset.create_dataset(x_grid.reshape(-1, 1), t_grid.reshape(-1, 1), n_samples=0, noise=0.2, random=True, normalize=True)\n",
    "X, y = X.to(device), y.to(device)"
   ]
  },
  {
   "cell_type": "markdown",
   "metadata": {},
   "source": [
    "# Bayes Training function"
   ]
  },
  {
   "cell_type": "code",
   "execution_count": 112,
   "metadata": {},
   "outputs": [],
   "source": [
    "X = torch.tensor(dataset.library(x_grid.reshape(-1, 1), t_grid.reshape(-1, 1), poly_order=2, deriv_order=3), dtype=torch.float32)\n",
    "y = torch.tensor(dataset.time_deriv(x_grid.reshape(-1, 1), t_grid.reshape(-1, 1)), dtype=torch.float32)\n",
    "\n",
    "mask = torch.zeros(X.shape[1], dtype=torch.bool)\n",
    "mask[[2, 5]] = 1"
   ]
  },
  {
   "cell_type": "code",
   "execution_count": 113,
   "metadata": {},
   "outputs": [],
   "source": [
    "a = torch.nn.Parameter(torch.zeros(12))\n",
    "b = torch.nn.Parameter(-torch.log(torch.var(y)))\n",
    "optimizer = torch.optim.Adam([a, b], betas=(0.99, 0.99), amsgrad=True, lr=2e-3) # Defining optimizer"
   ]
  },
  {
   "cell_type": "code",
   "execution_count": 114,
   "metadata": {},
   "outputs": [],
   "source": [
    "for epoch in np.arange(1e4):\n",
    "    alpha_ = torch.exp(a).clamp(max=1e8)\n",
    "    beta_ = torch.exp(b).clamp(max=1e8)\n",
    "    \n",
    "    loss = -SBL(X, y, mask, alpha_, beta_)[0]\n",
    "    optimizer.zero_grad()\n",
    "    loss.backward()\n",
    "    optimizer.step()"
   ]
  },
  {
   "cell_type": "code",
   "execution_count": 115,
   "metadata": {},
   "outputs": [
    {
     "data": {
      "text/plain": [
       "tensor([1.0000, 1.0000, 0.0234, 1.0000, 1.0000, 0.0175, 1.0000, 1.0000, 1.0000,\n",
       "        1.0000, 1.0000, 1.0000], grad_fn=<ClampBackward>)"
      ]
     },
     "execution_count": 115,
     "metadata": {},
     "output_type": "execute_result"
    }
   ],
   "source": [
    "alpha_"
   ]
  },
  {
   "cell_type": "code",
   "execution_count": 116,
   "metadata": {},
   "outputs": [
    {
     "data": {
      "text/plain": [
       "tensor([[  0.0000],\n",
       "        [  0.0000],\n",
       "        [ 15.5241],\n",
       "        [  0.0000],\n",
       "        [  0.0000],\n",
       "        [-21.2503],\n",
       "        [  0.0000],\n",
       "        [  0.0000],\n",
       "        [  0.0000],\n",
       "        [  0.0000],\n",
       "        [  0.0000],\n",
       "        [  0.0000]], grad_fn=<MaskedScatterBackward>)"
      ]
     },
     "execution_count": 116,
     "metadata": {},
     "output_type": "execute_result"
    }
   ],
   "source": [
    "SBL(X, y, mask, alpha_, beta_)[1]"
   ]
  },
  {
   "cell_type": "code",
   "execution_count": null,
   "metadata": {},
   "outputs": [],
   "source": [
    "beta_"
   ]
  },
  {
   "cell_type": "code",
   "execution_count": 93,
   "metadata": {},
   "outputs": [],
   "source": [
    "def SBL(X, y, mask, alpha_, beta_):\n",
    "    n_samples = X.shape[0]\n",
    "    \n",
    "    # Calculating coeff vectors\n",
    "    X_normed = X[:, mask] / torch.norm(X[:, mask], dim=0, keepdim=True)\n",
    "    alpha = alpha_[mask]\n",
    "    \n",
    "    A_inv = torch.inverse(torch.diag(alpha) + beta_ * X_normed.T @ X_normed)\n",
    "    mn = beta_ * A_inv @ X_normed.T @ y\n",
    "    \n",
    "    # Calculating likelihood\n",
    "    p = (\n",
    "        - beta_ * torch.sum((y - X_normed @ mn) ** 2) \n",
    "        - torch.sum(alpha[:, None] * mn ** 2)\n",
    "        + n_samples * torch.log(beta_)\n",
    "        + torch.sum(torch.log(alpha))\n",
    "        + torch.logdet(A_inv)\n",
    "    )\n",
    "    \n",
    "    # Putting 0's in right spot\n",
    "    coeffs =  torch.zeros((mask.shape[0], 1)).to(X.device).masked_scatter_(mask[:, None], mn)\n",
    "    \n",
    "    return p, coeffs"
   ]
  },
  {
   "cell_type": "code",
   "execution_count": null,
   "metadata": {},
   "outputs": [],
   "source": []
  }
 ],
 "metadata": {
  "kernelspec": {
   "display_name": "Python 3",
   "language": "python",
   "name": "python3"
  },
  "language_info": {
   "codemirror_mode": {
    "name": "ipython",
    "version": 3
   },
   "file_extension": ".py",
   "mimetype": "text/x-python",
   "name": "python",
   "nbconvert_exporter": "python",
   "pygments_lexer": "ipython3",
   "version": "3.8.3"
  }
 },
 "nbformat": 4,
 "nbformat_minor": 4
}
