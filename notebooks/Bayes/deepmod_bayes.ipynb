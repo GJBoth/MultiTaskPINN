{
 "cells": [
  {
   "cell_type": "code",
   "execution_count": 1,
   "metadata": {},
   "outputs": [],
   "source": [
    "# General imports\n",
    "import numpy as np\n",
    "import torch\n",
    "\n",
    "# DeepMoD stuff\n",
    "from deepymod import DeepMoD\n",
    "from deepymod.model.func_approx import NN\n",
    "from deepymod.model.library import Library1D\n",
    "from deepymod.model.constraint import LeastSquares\n",
    "from deepymod.model.sparse_estimators import Threshold\n",
    "from deepymod.training.sparsity_scheduler import TrainTestPeriodic, Periodic, TrainTest\n",
    "\n",
    "from deepymod.data import Dataset\n",
    "from deepymod.data.burgers import BurgersDelta\n",
    "\n",
    "from deepymod.utils.logger import Logger\n",
    "from deepymod.training.convergence import Convergence\n",
    "\n",
    "from deepymod.analysis import load_tensorboard\n",
    "\n",
    "if torch.cuda.is_available():\n",
    "    device = 'cuda'\n",
    "else:\n",
    "    device = 'cpu'\n",
    "device='cpu'\n",
    "# Settings for reproducibility\n",
    "np.random.seed(42)\n",
    "torch.manual_seed(0)\n",
    "torch.backends.cudnn.deterministic = True\n",
    "torch.backends.cudnn.benchmark = False\n"
   ]
  },
  {
   "cell_type": "markdown",
   "metadata": {},
   "source": [
    "# Training function"
   ]
  },
  {
   "cell_type": "code",
   "execution_count": 2,
   "metadata": {},
   "outputs": [],
   "source": [
    "def train_bayes(model: DeepMoD,\n",
    "          data: torch.Tensor,\n",
    "          target: torch.Tensor,\n",
    "          optimizer,\n",
    "          extra_params, \n",
    "          sparsity_scheduler,\n",
    "          split = 0.8,\n",
    "          exp_ID: str = None,\n",
    "          log_dir: str = None,\n",
    "          max_iterations: int = 10000,\n",
    "          write_iterations: int = 25,\n",
    "          **convergence_kwargs) -> None:\n",
    "    \"\"\"Trains the DeepMoD model. This function automatically splits the data set in a train and test set. \n",
    "\n",
    "    Args:\n",
    "        model (DeepMoD):  A DeepMoD object.\n",
    "        data (torch.Tensor):  Tensor of shape (n_samples x (n_spatial + 1)) containing the coordinates, first column should be the time coordinate.\n",
    "        target (torch.Tensor): Tensor of shape (n_samples x n_features) containing the target data.\n",
    "        optimizer ([type]):  Pytorch optimizer.\n",
    "        sparsity_scheduler ([type]):  Decides when to update the sparsity mask.\n",
    "        split (float, optional):  Fraction of the train set, by default 0.8.\n",
    "        exp_ID (str, optional): Unique ID to identify tensorboard file. Not used if log_dir is given, see pytorch documentation.\n",
    "        log_dir (str, optional): Directory where tensorboard file is written, by default None.\n",
    "        max_iterations (int, optional): [description]. Max number of epochs , by default 10000.\n",
    "        write_iterations (int, optional): [description]. Sets how often data is written to tensorboard and checks train loss , by default 25.\n",
    "    \"\"\"\n",
    "    logger = Logger(exp_ID, log_dir)\n",
    "    sparsity_scheduler.path = logger.log_dir # write checkpoint to same folder as tb output.\n",
    "    \n",
    "    t, a, l = extra_params\n",
    "    \n",
    "    # Splitting data, assumes data is already randomized\n",
    "    n_train = int(split * data.shape[0])\n",
    "    n_test = data.shape[0] - n_train\n",
    "    data_train, data_test = torch.split(data, [n_train, n_test], dim=0)\n",
    "    target_train, target_test = torch.split(target, [n_train, n_test], dim=0)\n",
    "    \n",
    "    M = 12\n",
    "    N = data_train.shape[0]\n",
    "    \n",
    "    # Training\n",
    "    convergence = Convergence(**convergence_kwargs)\n",
    "    for iteration in torch.arange(0, max_iterations):\n",
    "        # ================== Training Model ============================\n",
    "        prediction, time_derivs, thetas = model(data_train)\n",
    "        \n",
    "        tau_ = torch.exp(t)\n",
    "        alpha_ = torch.min(torch.exp(a), torch.tensor(1e8, dtype=torch.float32))\n",
    "        lambda_ = torch.min(torch.exp(l), torch.tensor(2e4, dtype=torch.float32))\n",
    "                            \n",
    "        y = time_derivs[0]\n",
    "        X = thetas[0]\n",
    "        \n",
    "        p_MSE = N / 2 * (tau_ * torch.mean((prediction - target_train)**2, dim=0) - t + np.log(2*np.pi))\n",
    "        \n",
    "        A = lambda_ * torch.eye(M) + alpha_ * X.T @ X\n",
    "        mn = alpha_ * torch.inverse(A) @ X.T @ y\n",
    "        E = alpha_ * torch.sum((y - X @ mn)**2) + lambda_ * mn.T @ mn\n",
    "        p_reg = 1/2 * (E + torch.sum(torch.log(torch.diag(A))) - (M * l + N * a) - N * np.log(2*np.pi))\n",
    "        \n",
    "                         \n",
    "\n",
    "        MSE = torch.mean((prediction - target_train)**2, dim=0)  # loss per output\n",
    "        Reg = torch.stack([torch.mean((dt - theta @ coeff_vector)**2)\n",
    "                           for dt, theta, coeff_vector in zip(time_derivs, thetas, model.constraint_coeffs(scaled=False, sparse=True))])\n",
    "        loss = torch.sum(p_MSE + p_reg)\n",
    "\n",
    "        # Optimizer step\n",
    "        optimizer.zero_grad()\n",
    "        loss.backward()\n",
    "        optimizer.step()\n",
    "        \n",
    "        if iteration % write_iterations == 0:\n",
    "            # ================== Validation costs ================\n",
    "            with torch.no_grad():\n",
    "                prediction_test = model.func_approx(data_test)[0]\n",
    "                MSE_test = torch.mean((prediction_test - target_test)**2, dim=0)  # loss per output\n",
    "         \n",
    "            # ====================== Logging =======================\n",
    "            _ = model.sparse_estimator(thetas, time_derivs) # calculating estimator coeffs but not setting mask\n",
    "            logger(iteration, \n",
    "                   loss, MSE, Reg,\n",
    "                   model.constraint_coeffs(sparse=True, scaled=True), \n",
    "                   model.constraint_coeffs(sparse=True, scaled=False),\n",
    "                   model.estimator_coeffs(),\n",
    "                   MSE_test=MSE_test,\n",
    "                   p_MSE = p_MSE,\n",
    "                   p_reg = p_reg,\n",
    "                   tau = tau_,\n",
    "                   alpha=alpha_,\n",
    "                  lambda_=lambda_,\n",
    "                  mn=mn)\n",
    "\n",
    "            # ================== Sparsity update =============\n",
    "            # Updating sparsity \n",
    "            update_sparsity = sparsity_scheduler(iteration, torch.sum(MSE_test), model, optimizer)\n",
    "            if update_sparsity: \n",
    "                model.constraint.sparsity_masks = model.sparse_estimator(thetas, time_derivs)\n",
    "\n",
    "            # ================= Checking convergence\n",
    "            l1_norm = torch.sum(torch.abs(torch.cat(model.constraint_coeffs(sparse=True, scaled=True), dim=1)))\n",
    "            converged = convergence(iteration, l1_norm)\n",
    "            if converged:\n",
    "                break\n",
    "    logger.close(model)\n",
    "    "
   ]
  },
  {
   "cell_type": "code",
   "execution_count": 46,
   "metadata": {},
   "outputs": [],
   "source": [
    "def train_SBL(model: DeepMoD,\n",
    "          data: torch.Tensor,\n",
    "          target: torch.Tensor,\n",
    "          optimizer,\n",
    "          extra_params, \n",
    "          sparsity_scheduler,\n",
    "          split = 0.8,\n",
    "          exp_ID: str = None,\n",
    "          log_dir: str = None,\n",
    "          max_iterations: int = 10000,\n",
    "          write_iterations: int = 25,\n",
    "          **convergence_kwargs) -> None:\n",
    "    \"\"\"Trains the DeepMoD model. This function automatically splits the data set in a train and test set. \n",
    "\n",
    "    Args:\n",
    "        model (DeepMoD):  A DeepMoD object.\n",
    "        data (torch.Tensor):  Tensor of shape (n_samples x (n_spatial + 1)) containing the coordinates, first column should be the time coordinate.\n",
    "        target (torch.Tensor): Tensor of shape (n_samples x n_features) containing the target data.\n",
    "        optimizer ([type]):  Pytorch optimizer.\n",
    "        sparsity_scheduler ([type]):  Decides when to update the sparsity mask.\n",
    "        split (float, optional):  Fraction of the train set, by default 0.8.\n",
    "        exp_ID (str, optional): Unique ID to identify tensorboard file. Not used if log_dir is given, see pytorch documentation.\n",
    "        log_dir (str, optional): Directory where tensorboard file is written, by default None.\n",
    "        max_iterations (int, optional): [description]. Max number of epochs , by default 10000.\n",
    "        write_iterations (int, optional): [description]. Sets how often data is written to tensorboard and checks train loss , by default 25.\n",
    "    \"\"\"\n",
    "    logger = Logger(exp_ID, log_dir)\n",
    "    sparsity_scheduler.path = logger.log_dir # write checkpoint to same folder as tb output.\n",
    "    \n",
    "    t, b, a = extra_params\n",
    "    \n",
    "    # Splitting data, assumes data is already randomized\n",
    "    n_train = int(split * data.shape[0])\n",
    "    n_test = data.shape[0] - n_train\n",
    "    data_train, data_test = torch.split(data, [n_train, n_test], dim=0)\n",
    "    target_train, target_test = torch.split(target, [n_train, n_test], dim=0)\n",
    "    \n",
    "\n",
    "    threshold = 1e4\n",
    "    n_samples = data_train.shape[0]\n",
    "   \n",
    "    \n",
    "    # Training\n",
    "    convergence = Convergence(**convergence_kwargs)\n",
    "    for iteration in torch.arange(0, max_iterations):\n",
    "        # ================== Training Model ============================\n",
    "        prediction, time_derivs, thetas = model(data_train)\n",
    "        \n",
    "        tau_ = torch.min(torch.exp(t), torch.tensor(1e8, dtype=torch.float32))\n",
    "        alpha_ = torch.min(torch.exp(a), torch.tensor(2e4, dtype=torch.float32)) # we train the log of these things since they're very big\n",
    "        beta_ = torch.min(torch.exp(b), torch.tensor(1e8, dtype=torch.float32)) # we cap alpha and beta to prevent overflow\n",
    "                            \n",
    "        y = time_derivs[0]\n",
    "        X = thetas[0]\n",
    "        \n",
    "        mask = alpha_ < threshold\n",
    "        X_keep = X[:, mask]\n",
    "        A_inv = torch.inverse(torch.diag(alpha_[mask]) + beta_ * X_keep.T @ X_keep)\n",
    "        mn = torch.zeros((a.shape[0], 1)).to(data.device)\n",
    "        mn[mask, :] = beta_ * A_inv @ X_keep.T @ y\n",
    "        E = beta_ * torch.sum((y - X @ mn)**2) + (alpha_[:, None] * mn**2).sum()\n",
    "\n",
    "        p_reg = E - (torch.logdet(A_inv) + n_samples * torch.log(beta_) + torch.sum(torch.log(alpha_))) # we use alpha and lambda since these are bounded\n",
    "        p_MSE = tau_ * torch.sum((prediction - target_train)**2, dim=0) - n_samples * torch.log(tau_)\n",
    "        loss = torch.sum(p_MSE + p_reg)\n",
    "            \n",
    "        MSE = torch.mean((prediction - target_train)**2, dim=0)  # loss per output\n",
    "        Reg = torch.stack([torch.mean((dt - theta @ coeff_vector)**2)\n",
    "                           for dt, theta, coeff_vector in zip(time_derivs, thetas, model.constraint_coeffs(scaled=False, sparse=True))])\n",
    "       \n",
    "\n",
    "        # Optimizer step\n",
    "        optimizer.zero_grad()\n",
    "        loss.backward()\n",
    "        optimizer.step()\n",
    "        \n",
    "        if iteration % write_iterations == 0:\n",
    "            # ================== Validation costs ================\n",
    "            with torch.no_grad():\n",
    "                prediction_test = model.func_approx(data_test)[0]\n",
    "                MSE_test = torch.mean((prediction_test - target_test)**2, dim=0)  # loss per output\n",
    "         \n",
    "            # ====================== Logging =======================\n",
    "            _ = model.sparse_estimator(thetas, time_derivs) # calculating estimator coeffs but not setting mask\n",
    "            logger(iteration, \n",
    "                   loss, MSE, Reg,\n",
    "                   model.constraint_coeffs(sparse=True, scaled=True), \n",
    "                   model.constraint_coeffs(sparse=True, scaled=False),\n",
    "                   model.estimator_coeffs(),\n",
    "                   MSE_test=MSE_test,\n",
    "                   p_MSE = p_MSE,\n",
    "                   p_reg = p_reg,\n",
    "                   tau = tau_,\n",
    "                   alpha=alpha_,\n",
    "                   beta_=beta_,\n",
    "                   mn=mn)\n",
    "\n",
    "            # ================== Sparsity update =============\n",
    "            # Updating sparsity \n",
    "            update_sparsity = sparsity_scheduler(iteration, torch.sum(MSE_test), model, optimizer)\n",
    "            #if update_sparsity: \n",
    "            #    model.constraint.sparsity_masks = model.sparse_estimator(thetas, time_derivs)\n",
    "\n",
    "            # ================= Checking convergence\n",
    "            l1_norm = torch.sum(torch.abs(torch.cat(model.constraint_coeffs(sparse=True, scaled=True), dim=1)))\n",
    "            converged = convergence(iteration, l1_norm)\n",
    "            if converged:\n",
    "                break\n",
    "    logger.close(model)\n",
    "    "
   ]
  },
  {
   "cell_type": "markdown",
   "metadata": {},
   "source": [
    "# Running"
   ]
  },
  {
   "cell_type": "code",
   "execution_count": 3,
   "metadata": {},
   "outputs": [],
   "source": [
    "# Making dataset\n",
    "v = 0.1\n",
    "A = 1.0\n",
    "\n",
    "x = np.linspace(-3, 4, 100)\n",
    "t = np.linspace(0.5, 5.0, 50)\n",
    "x_grid, t_grid = np.meshgrid(x, t, indexing='ij')\n",
    "dataset = Dataset(BurgersDelta, v=v, A=A)\n",
    "X, y = dataset.create_dataset(x_grid.reshape(-1, 1), t_grid.reshape(-1, 1), n_samples=1000, noise=0.8, random=True, normalize=False)\n",
    "X, y = X.to(device), y.to(device)\n",
    "    "
   ]
  },
  {
   "cell_type": "code",
   "execution_count": null,
   "metadata": {},
   "outputs": [],
   "source": []
  },
  {
   "cell_type": "code",
   "execution_count": 5,
   "metadata": {},
   "outputs": [],
   "source": [
    "t = torch.nn.Parameter(-torch.log(torch.var(y)))\n",
    "a = torch.nn.Parameter(-torch.log(torch.var(y)))\n",
    "l  = torch.nn.Parameter(torch.zeros(1))"
   ]
  },
  {
   "cell_type": "code",
   "execution_count": 6,
   "metadata": {},
   "outputs": [],
   "source": [
    "network = NN(2, [30, 30, 30, 30, 30], 1)\n",
    "library = Library1D(poly_order=2, diff_order=3) # Library function\n",
    "estimator = Threshold(0.0) # Sparse estimator \n",
    "constraint = LeastSquares() # How to constrain\n",
    "model = DeepMoD(network, library, estimator, constraint).to(device) # Putting it all in the model\n",
    "\n",
    "sparsity_scheduler = Periodic(periodicity=50, initial_iteration=1e8)"
   ]
  },
  {
   "cell_type": "code",
   "execution_count": 7,
   "metadata": {},
   "outputs": [],
   "source": [
    "optimizer = torch.optim.Adam([{'params':model.parameters(), 'betas':(0.99, 0.999), 'amsgrad':True, 'lr':2e-3}, {'params':[t, a, l], 'betas':(0.99, 0.999), 'amsgrad':True, 'lr':2e-3}]) # Defining optimizer"
   ]
  },
  {
   "cell_type": "code",
   "execution_count": 8,
   "metadata": {},
   "outputs": [
    {
     "name": "stdout",
     "output_type": "stream",
     "text": [
      " 14150  MSE: 2.12e-02  Reg: 1.64e-07  L1: 1.94e+00 "
     ]
    },
    {
     "ename": "KeyboardInterrupt",
     "evalue": "",
     "output_type": "error",
     "traceback": [
      "\u001b[0;31m---------------------------------------------------------------------------\u001b[0m",
      "\u001b[0;31mKeyboardInterrupt\u001b[0m                         Traceback (most recent call last)",
      "\u001b[0;32m<ipython-input-8-ffdb908c4051>\u001b[0m in \u001b[0;36m<module>\u001b[0;34m\u001b[0m\n\u001b[0;32m----> 1\u001b[0;31m \u001b[0mtrain_bayes\u001b[0m\u001b[0;34m(\u001b[0m\u001b[0mmodel\u001b[0m\u001b[0;34m,\u001b[0m \u001b[0mX\u001b[0m\u001b[0;34m,\u001b[0m \u001b[0my\u001b[0m\u001b[0;34m,\u001b[0m \u001b[0moptimizer\u001b[0m\u001b[0;34m,\u001b[0m \u001b[0;34m[\u001b[0m\u001b[0mt\u001b[0m\u001b[0;34m,\u001b[0m \u001b[0ma\u001b[0m\u001b[0;34m,\u001b[0m \u001b[0ml\u001b[0m\u001b[0;34m]\u001b[0m\u001b[0;34m,\u001b[0m \u001b[0msparsity_scheduler\u001b[0m\u001b[0;34m,\u001b[0m \u001b[0mexp_ID\u001b[0m\u001b[0;34m=\u001b[0m\u001b[0;34m'bayes_regression'\u001b[0m\u001b[0;34m,\u001b[0m \u001b[0msplit\u001b[0m\u001b[0;34m=\u001b[0m\u001b[0;36m0.8\u001b[0m\u001b[0;34m,\u001b[0m \u001b[0mwrite_iterations\u001b[0m\u001b[0;34m=\u001b[0m\u001b[0;36m50\u001b[0m\u001b[0;34m,\u001b[0m \u001b[0mmax_iterations\u001b[0m\u001b[0;34m=\u001b[0m\u001b[0;36m20000\u001b[0m\u001b[0;34m,\u001b[0m \u001b[0mdelta\u001b[0m\u001b[0;34m=\u001b[0m\u001b[0;36m0.0\u001b[0m\u001b[0;34m,\u001b[0m \u001b[0mpatience\u001b[0m\u001b[0;34m=\u001b[0m\u001b[0;36m200\u001b[0m\u001b[0;34m)\u001b[0m\u001b[0;34m\u001b[0m\u001b[0;34m\u001b[0m\u001b[0m\n\u001b[0m",
      "\u001b[0;32m<ipython-input-2-f819e1a6b04e>\u001b[0m in \u001b[0;36mtrain_bayes\u001b[0;34m(model, data, target, optimizer, extra_params, sparsity_scheduler, split, exp_ID, log_dir, max_iterations, write_iterations, **convergence_kwargs)\u001b[0m\n\u001b[1;32m     68\u001b[0m         \u001b[0;31m# Optimizer step\u001b[0m\u001b[0;34m\u001b[0m\u001b[0;34m\u001b[0m\u001b[0;34m\u001b[0m\u001b[0m\n\u001b[1;32m     69\u001b[0m         \u001b[0moptimizer\u001b[0m\u001b[0;34m.\u001b[0m\u001b[0mzero_grad\u001b[0m\u001b[0;34m(\u001b[0m\u001b[0;34m)\u001b[0m\u001b[0;34m\u001b[0m\u001b[0;34m\u001b[0m\u001b[0m\n\u001b[0;32m---> 70\u001b[0;31m         \u001b[0mloss\u001b[0m\u001b[0;34m.\u001b[0m\u001b[0mbackward\u001b[0m\u001b[0;34m(\u001b[0m\u001b[0;34m)\u001b[0m\u001b[0;34m\u001b[0m\u001b[0;34m\u001b[0m\u001b[0m\n\u001b[0m\u001b[1;32m     71\u001b[0m         \u001b[0moptimizer\u001b[0m\u001b[0;34m.\u001b[0m\u001b[0mstep\u001b[0m\u001b[0;34m(\u001b[0m\u001b[0;34m)\u001b[0m\u001b[0;34m\u001b[0m\u001b[0;34m\u001b[0m\u001b[0m\n\u001b[1;32m     72\u001b[0m \u001b[0;34m\u001b[0m\u001b[0m\n",
      "\u001b[0;32m~/anaconda3/lib/python3.8/site-packages/torch/tensor.py\u001b[0m in \u001b[0;36mbackward\u001b[0;34m(self, gradient, retain_graph, create_graph)\u001b[0m\n\u001b[1;32m    183\u001b[0m                 \u001b[0mproducts\u001b[0m\u001b[0;34m.\u001b[0m \u001b[0mDefaults\u001b[0m \u001b[0mto\u001b[0m\u001b[0;31m \u001b[0m\u001b[0;31m`\u001b[0m\u001b[0;31m`\u001b[0m\u001b[0;32mFalse\u001b[0m\u001b[0;31m`\u001b[0m\u001b[0;31m`\u001b[0m\u001b[0;34m.\u001b[0m\u001b[0;34m\u001b[0m\u001b[0;34m\u001b[0m\u001b[0m\n\u001b[1;32m    184\u001b[0m         \"\"\"\n\u001b[0;32m--> 185\u001b[0;31m         \u001b[0mtorch\u001b[0m\u001b[0;34m.\u001b[0m\u001b[0mautograd\u001b[0m\u001b[0;34m.\u001b[0m\u001b[0mbackward\u001b[0m\u001b[0;34m(\u001b[0m\u001b[0mself\u001b[0m\u001b[0;34m,\u001b[0m \u001b[0mgradient\u001b[0m\u001b[0;34m,\u001b[0m \u001b[0mretain_graph\u001b[0m\u001b[0;34m,\u001b[0m \u001b[0mcreate_graph\u001b[0m\u001b[0;34m)\u001b[0m\u001b[0;34m\u001b[0m\u001b[0;34m\u001b[0m\u001b[0m\n\u001b[0m\u001b[1;32m    186\u001b[0m \u001b[0;34m\u001b[0m\u001b[0m\n\u001b[1;32m    187\u001b[0m     \u001b[0;32mdef\u001b[0m \u001b[0mregister_hook\u001b[0m\u001b[0;34m(\u001b[0m\u001b[0mself\u001b[0m\u001b[0;34m,\u001b[0m \u001b[0mhook\u001b[0m\u001b[0;34m)\u001b[0m\u001b[0;34m:\u001b[0m\u001b[0;34m\u001b[0m\u001b[0;34m\u001b[0m\u001b[0m\n",
      "\u001b[0;32m~/anaconda3/lib/python3.8/site-packages/torch/autograd/__init__.py\u001b[0m in \u001b[0;36mbackward\u001b[0;34m(tensors, grad_tensors, retain_graph, create_graph, grad_variables)\u001b[0m\n\u001b[1;32m    123\u001b[0m         \u001b[0mretain_graph\u001b[0m \u001b[0;34m=\u001b[0m \u001b[0mcreate_graph\u001b[0m\u001b[0;34m\u001b[0m\u001b[0;34m\u001b[0m\u001b[0m\n\u001b[1;32m    124\u001b[0m \u001b[0;34m\u001b[0m\u001b[0m\n\u001b[0;32m--> 125\u001b[0;31m     Variable._execution_engine.run_backward(\n\u001b[0m\u001b[1;32m    126\u001b[0m         \u001b[0mtensors\u001b[0m\u001b[0;34m,\u001b[0m \u001b[0mgrad_tensors\u001b[0m\u001b[0;34m,\u001b[0m \u001b[0mretain_graph\u001b[0m\u001b[0;34m,\u001b[0m \u001b[0mcreate_graph\u001b[0m\u001b[0;34m,\u001b[0m\u001b[0;34m\u001b[0m\u001b[0;34m\u001b[0m\u001b[0m\n\u001b[1;32m    127\u001b[0m         allow_unreachable=True)  # allow_unreachable flag\n",
      "\u001b[0;31mKeyboardInterrupt\u001b[0m: "
     ]
    }
   ],
   "source": [
    "train_bayes(model, X, y, optimizer, [t, a, l], sparsity_scheduler, exp_ID='bayes_regression', split=0.8, write_iterations=50, max_iterations=20000, delta=0.0, patience=200) "
   ]
  },
  {
   "cell_type": "markdown",
   "metadata": {},
   "source": [
    "# SBL"
   ]
  },
  {
   "cell_type": "code",
   "execution_count": 47,
   "metadata": {},
   "outputs": [],
   "source": [
    "# Making dataset\n",
    "v = 0.1\n",
    "A = 1.0\n",
    "\n",
    "x = np.linspace(-3, 4, 100)\n",
    "t = np.linspace(0.5, 5.0, 50)\n",
    "x_grid, t_grid = np.meshgrid(x, t, indexing='ij')\n",
    "dataset = Dataset(BurgersDelta, v=v, A=A)\n",
    "X, y = dataset.create_dataset(x_grid.reshape(-1, 1), t_grid.reshape(-1, 1), n_samples=1000, noise=0.8, random=True, normalize=False)\n",
    "X, y = X.to(device), y.to(device)\n",
    "    "
   ]
  },
  {
   "cell_type": "code",
   "execution_count": 48,
   "metadata": {},
   "outputs": [],
   "source": [
    "t = torch.nn.Parameter(-torch.log(torch.var(y)))\n",
    "b = torch.nn.Parameter(-torch.log(torch.var(y)))\n",
    "a  = torch.nn.Parameter(torch.zeros(12))"
   ]
  },
  {
   "cell_type": "code",
   "execution_count": 49,
   "metadata": {},
   "outputs": [],
   "source": [
    "network = NN(2, [30, 30, 30, 30, 30], 1)\n",
    "library = Library1D(poly_order=2, diff_order=3) # Library function\n",
    "estimator = Threshold(0.1) # Sparse estimator \n",
    "constraint = LeastSquares() # How to constrain\n",
    "model = DeepMoD(network, library, estimator, constraint).to(device) # Putting it all in the model\n",
    "sparsity_scheduler = Periodic(initial_iteration=10**8)"
   ]
  },
  {
   "cell_type": "code",
   "execution_count": 51,
   "metadata": {},
   "outputs": [],
   "source": [
    "optimizer = torch.optim.Adam([{'params':model.parameters(), 'amsgrad':True, 'lr':2e-3, 'betas':(0.99, 0.999)}, {'params':[t, b, a], 'amsgrad':True, 'lr':2e-3, 'betas':(0.99, 0.999)}]) # Defining optimizer"
   ]
  },
  {
   "cell_type": "code",
   "execution_count": 52,
   "metadata": {},
   "outputs": [
    {
     "name": "stdout",
     "output_type": "stream",
     "text": [
      " 29950  MSE: 2.15e-02  Reg: 7.18e-11  L1: 1.83e+00 Algorithm converged. Writing model to disk.\n"
     ]
    }
   ],
   "source": [
    "train_SBL(model, X, y, optimizer, [t, b, a], sparsity_scheduler, exp_ID='SBL_betas', split=0.8, write_iterations=50, max_iterations=30000, delta=0.0, patience=200) "
   ]
  },
  {
   "cell_type": "code",
   "execution_count": 20,
   "metadata": {},
   "outputs": [
    {
     "data": {
      "text/plain": [
       "Parameter containing:\n",
       "tensor([5.2740, 3.1534, 5.1648, 5.3445, 2.8648, 2.6787, 4.5340, 5.3478, 0.4639,\n",
       "        4.4162, 4.8287, 5.0739], requires_grad=True)"
      ]
     },
     "execution_count": 20,
     "metadata": {},
     "output_type": "execute_result"
    }
   ],
   "source": [
    "l"
   ]
  },
  {
   "cell_type": "code",
   "execution_count": null,
   "metadata": {},
   "outputs": [],
   "source": []
  },
  {
   "cell_type": "code",
   "execution_count": null,
   "metadata": {},
   "outputs": [],
   "source": []
  },
  {
   "cell_type": "code",
   "execution_count": null,
   "metadata": {},
   "outputs": [],
   "source": []
  },
  {
   "cell_type": "code",
   "execution_count": 6,
   "metadata": {},
   "outputs": [],
   "source": [
    "from deepymod.data import Dataset\n",
    "from deepymod.data.kdv import DoubleSoliton\n",
    "\n",
    "\n",
    "x = np.linspace(-4, 3, 1000)\n",
    "t = np.linspace(0.0, 2.0, 40)\n",
    "\n",
    "x_grid, t_grid = np.meshgrid(x, t, indexing='ij')\n",
    "dataset = Dataset(DoubleSoliton, c=[5.0, 1.0], x0=[-5.0, -1.0])\n",
    "X, y = dataset.create_dataset(x_grid.reshape(-1, 1), t_grid.reshape(-1, 1), n_samples=1000, noise=0.2, normalize=False, random=True)"
   ]
  },
  {
   "cell_type": "code",
   "execution_count": 7,
   "metadata": {},
   "outputs": [],
   "source": [
    "t = torch.nn.Parameter(-torch.log(torch.var(y)))\n",
    "a = torch.nn.Parameter(-torch.log(torch.var(y)))\n",
    "l  = torch.nn.Parameter(torch.zeros(12))"
   ]
  },
  {
   "cell_type": "code",
   "execution_count": 8,
   "metadata": {},
   "outputs": [],
   "source": [
    "network = NN(2, [30, 30, 30, 30, 30], 1)\n",
    "library = Library1D(poly_order=2, diff_order=3) # Library function\n",
    "estimator = Threshold(0.0) # Sparse estimator \n",
    "constraint = LeastSquares() # How to constrain\n",
    "model = DeepMoD(network, library, estimator, constraint).to(device) # Putting it all in the model\n",
    "\n",
    "sparsity_scheduler = Periodic(periodicity=50, initial_iteration=1e8)"
   ]
  },
  {
   "cell_type": "code",
   "execution_count": 9,
   "metadata": {},
   "outputs": [],
   "source": [
    "optimizer = torch.optim.Adam([{'params':model.parameters(), 'betas':(0.99, 0.999), 'amsgrad':True, 'lr':5e-4}, {'params':[t, a, l], 'betas':(0.99, 0.999), 'amsgrad':True, 'lr':5e-4}]) # Defining optimizer"
   ]
  },
  {
   "cell_type": "code",
   "execution_count": 10,
   "metadata": {},
   "outputs": [
    {
     "name": "stdout",
     "output_type": "stream",
     "text": [
      " 19950  MSE: 2.64e-02  Reg: 7.76e-03  L1: 3.06e+00 Algorithm converged. Writing model to disk.\n"
     ]
    }
   ],
   "source": [
    "train_SBL(model, X, y, optimizer, [t, a, l], sparsity_scheduler, exp_ID='kdv_slow_4', split=0.8, write_iterations=50, max_iterations=20000, delta=0.0, patience=200) "
   ]
  },
  {
   "cell_type": "code",
   "execution_count": null,
   "metadata": {},
   "outputs": [],
   "source": []
  }
 ],
 "metadata": {
  "kernelspec": {
   "display_name": "Python 3",
   "language": "python",
   "name": "python3"
  },
  "language_info": {
   "codemirror_mode": {
    "name": "ipython",
    "version": 3
   },
   "file_extension": ".py",
   "mimetype": "text/x-python",
   "name": "python",
   "nbconvert_exporter": "python",
   "pygments_lexer": "ipython3",
   "version": "3.8.3"
  }
 },
 "nbformat": 4,
 "nbformat_minor": 4
}
