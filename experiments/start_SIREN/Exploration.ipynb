{
 "cells": [
  {
   "cell_type": "markdown",
   "metadata": {},
   "source": [
    "When should we start SIREN and how often should we perform sparsity selection? In this notebook we figure it out."
   ]
  },
  {
   "cell_type": "code",
   "execution_count": 1,
   "metadata": {},
   "outputs": [],
   "source": [
    "# General imports\n",
    "import numpy as np\n",
    "import torch\n",
    "\n",
    "# DeepMoD Components\n",
    "from multitaskpinn import DeepMoD\n",
    "from multitaskpinn.model.func_approx import NN, Siren\n",
    "from multitaskpinn.model.library import Library1D\n",
    "from multitaskpinn.model.constraint import LeastSquares\n",
    "from multitaskpinn.model.sparse_estimators import Threshold\n",
    "from multitaskpinn.training import train\n",
    "from multitaskpinn.training.sparsity_scheduler import Periodic\n",
    "\n",
    "# Data\n",
    "from phimal_utilities.data import Dataset\n",
    "from phimal_utilities.data.kdv import DoubleSoliton\n",
    "\n",
    "#Plotting\n",
    "import matplotlib.pyplot as plt\n",
    "import seaborn as sns\n",
    "sns.set()\n",
    "\n",
    "# Cuda\n",
    "if torch.cuda.is_available():\n",
    "    device = 'cuda'\n",
    "else:\n",
    "    device = 'cpu'\n",
    "    \n",
    "# Settings for reproducibility\n",
    "np.random.seed(42)\n",
    "torch.manual_seed(0)\n",
    "torch.backends.cudnn.deterministic = True\n",
    "torch.backends.cudnn.benchmark = False\n",
    "\n",
    "%load_ext autoreload\n",
    "%autoreload 2"
   ]
  },
  {
   "cell_type": "code",
   "execution_count": 2,
   "metadata": {},
   "outputs": [],
   "source": [
    "# Making data\n",
    "x = np.linspace(-7, 5, 100)\n",
    "t = np.linspace(0.0, 1.0, 50)\n",
    "\n",
    "x_grid, t_grid = np.meshgrid(x, t, indexing='ij')\n",
    "dataset = Dataset(DoubleSoliton, c=(5, 2), x0=(-3, -1))\n",
    "\n",
    "\n",
    "X_full, y_full = dataset.create_dataset(x_grid.reshape(-1, 1), t_grid.reshape(-1, 1), n_samples=0, noise=0.0, normalize=False, random=False)"
   ]
  },
  {
   "cell_type": "code",
   "execution_count": 3,
   "metadata": {},
   "outputs": [
    {
     "data": {
      "text/plain": [
       "Text(0, 0.5, 't')"
      ]
     },
     "execution_count": 3,
     "metadata": {},
     "output_type": "execute_result"
    },
    {
     "data": {
      "image/png": "[encoded data removed]",
      "text/plain": [
       "<Figure size 432x288 with 1 Axes>"
      ]
     },
     "metadata": {},
     "output_type": "display_data"
    }
   ],
   "source": [
    "plt.contourf(t_grid, x_grid, y_full.reshape(x_grid.shape))\n",
    "plt.xlabel('x')\n",
    "plt.ylabel('t')"
   ]
  },
  {
   "cell_type": "markdown",
   "metadata": {},
   "source": [
    "Now we sample on a square grid:"
   ]
  },
  {
   "cell_type": "code",
   "execution_count": 4,
   "metadata": {},
   "outputs": [],
   "source": [
    "# Making training set\n",
    "x_sample = np.linspace(-7, 5, 50)\n",
    "t_sample = np.linspace(0.0, 1.0, 40)\n",
    "x_grid_sample, t_grid_sample = np.meshgrid(x_sample, t_sample, indexing='ij')\n",
    "X_train, y_train = dataset.create_dataset(x_grid_sample.reshape(-1, 1), t_grid_sample.reshape(-1, 1), n_samples=0, noise=0.1, normalize=True, random=True)"
   ]
  },
  {
   "cell_type": "code",
   "execution_count": 5,
   "metadata": {},
   "outputs": [
    {
     "data": {
      "text/plain": [
       "tensor(0.0041)"
      ]
     },
     "execution_count": 5,
     "metadata": {},
     "output_type": "execute_result"
    }
   ],
   "source": [
    "(0.1 * torch.std(y_train))**2"
   ]
  },
  {
   "cell_type": "markdown",
   "metadata": {},
   "source": [
    "# Baseline NN"
   ]
  },
  {
   "cell_type": "code",
   "execution_count": 6,
   "metadata": {},
   "outputs": [],
   "source": [
    "# Configuring model\n",
    "network = NN(2, [30, 30, 30, 30, 30], 1)  # Function approximator\n",
    "library = Library1D(poly_order=2, diff_order=3, norm_time=False) # Library function\n",
    "estimator = Threshold(0.1) #Clustering() # Sparse estimator \n",
    "constraint = LeastSquares() # How to constrain\n",
    "model = DeepMoD(network, library, estimator, constraint) # Putting it all in the model\n",
    "\n",
    "# Running model\n",
    "sparsity_scheduler = Periodic(initial_epoch=2000, periodicity=100) # Defining when to apply sparsity\n",
    "optimizer = torch.optim.Adam(model.parameters(), betas=(0.99, 0.99), amsgrad=True) # Defining optimizer"
   ]
  },
  {
   "cell_type": "code",
   "execution_count": null,
   "metadata": {},
   "outputs": [
    {
     "name": "stdout",
     "output_type": "stream",
     "text": [
      "| Iteration | Progress | Time remaining |     Loss |      MSE |      Reg |    L1 norm |\n",
      "       1925     19.25%             428s   -7.28e+00   4.16e-03   3.41e-05   1.90e+02 "
     ]
    }
   ],
   "source": [
    "train(model, X_train, y_train, optimizer, sparsity_scheduler, delta=0.01, log_dir='runs/NN_test/') # Running"
   ]
  },
  {
   "cell_type": "code",
   "execution_count": 15,
   "metadata": {},
   "outputs": [
    {
     "data": {
      "text/plain": [
       "[array([[ 0.        ],\n",
       "        [ 0.        ],\n",
       "        [ 0.        ],\n",
       "        [-0.71376047],\n",
       "        [ 0.        ],\n",
       "        [-2.1207873 ],\n",
       "        [ 0.        ],\n",
       "        [ 0.        ],\n",
       "        [ 0.        ],\n",
       "        [ 0.99172753],\n",
       "        [ 0.        ],\n",
       "        [ 0.31504622]])]"
      ]
     },
     "execution_count": 15,
     "metadata": {},
     "output_type": "execute_result"
    }
   ],
   "source": [
    "model.estimator_coeffs()"
   ]
  },
  {
   "cell_type": "code",
   "execution_count": 16,
   "metadata": {},
   "outputs": [
    {
     "data": {
      "text/plain": [
       "[tensor([[ 0.0000],\n",
       "         [ 0.0000],\n",
       "         [ 0.0000],\n",
       "         [-0.7182],\n",
       "         [ 0.0000],\n",
       "         [-2.2358],\n",
       "         [ 0.0000],\n",
       "         [ 0.0000],\n",
       "         [ 0.0000],\n",
       "         [ 1.1037],\n",
       "         [ 0.0000],\n",
       "         [ 0.4441]], grad_fn=<MaskedScatterBackward>)]"
      ]
     },
     "execution_count": 16,
     "metadata": {},
     "output_type": "execute_result"
    }
   ],
   "source": [
    "model.constraint_coeffs(sparse=True, scaled=True)"
   ]
  },
  {
   "cell_type": "markdown",
   "metadata": {},
   "source": [
    "# SIREN"
   ]
  },
  {
   "cell_type": "code",
   "execution_count": 34,
   "metadata": {},
   "outputs": [],
   "source": [
    "# Configuring model\n",
    "network = Siren(2, [30, 30, 30, 30, 30], 1)  # Function approximator\n",
    "library = Library1D(poly_order=2, diff_order=3) # Library function\n",
    "estimator = Threshold(0.1) #Clustering() # Sparse estimator \n",
    "constraint = LeastSquares() # How to constrain\n",
    "model = DeepMoD(network, library, estimator, constraint) # Putting it all in the model\n",
    "\n",
    "# Running model\n",
    "sparsity_scheduler = Periodic(initial_epoch=225, periodicity=100) # Defining when to apply sparsity\n",
    "optimizer = torch.optim.Adam(model.parameters(), betas=(0.999, 0.999), lr=0.00025, amsgrad=True) # Defining optimizer"
   ]
  },
  {
   "cell_type": "code",
   "execution_count": 35,
   "metadata": {},
   "outputs": [
    {
     "name": "stdout",
     "output_type": "stream",
     "text": [
      "| Iteration | Progress | Time remaining |     Loss |      MSE |      Reg |    L1 norm |\n",
      "        225      7.50%             165s   -5.88e+00   8.23e-03   3.41e-04   1.30e+00 [tensor([False,  True, False, False, False, False, False, False, False, False,\n",
      "        False, False])]\n",
      "        325     10.83%             159s   -8.07e+00   2.66e-03   2.99e-04   6.34e-01 [tensor([False,  True, False, False, False,  True, False,  True, False, False,\n",
      "        False, False])]\n",
      "        425     14.17%             154s   -8.63e+00   1.95e-03   3.35e-04   7.10e-01 [tensor([False,  True, False, False, False, False, False, False, False, False,\n",
      "        False, False])]\n",
      "        525     17.50%             148s   -9.30e+00   1.33e-03   3.59e-04   5.31e-01 [tensor([False,  True, False, False, False, False, False, False, False, False,\n",
      "        False, False])]\n",
      "Algorithm converged. Stopping training.\n"
     ]
    }
   ],
   "source": [
    "train(model, X_train, y_train, optimizer, sparsity_scheduler, log_dir='runs//', max_iterations=3000) # Running"
   ]
  },
  {
   "cell_type": "code",
   "execution_count": 19,
   "metadata": {},
   "outputs": [
    {
     "data": {
      "text/plain": [
       "[array([[ 0.        ],\n",
       "        [ 0.17168353],\n",
       "        [ 0.        ],\n",
       "        [-0.76225889],\n",
       "        [ 0.        ],\n",
       "        [-0.22567462],\n",
       "        [ 0.        ],\n",
       "        [ 0.        ],\n",
       "        [ 0.        ],\n",
       "        [ 0.        ],\n",
       "        [ 0.        ],\n",
       "        [ 0.        ]])]"
      ]
     },
     "execution_count": 19,
     "metadata": {},
     "output_type": "execute_result"
    }
   ],
   "source": [
    "model.estimator_coeffs()"
   ]
  },
  {
   "cell_type": "code",
   "execution_count": 20,
   "metadata": {},
   "outputs": [
    {
     "data": {
      "text/plain": [
       "[tensor([[ 0.0000e+00],\n",
       "         [ 1.7143e-01],\n",
       "         [ 0.0000e+00],\n",
       "         [-4.5420e-06],\n",
       "         [ 0.0000e+00],\n",
       "         [-3.3190e-01],\n",
       "         [ 0.0000e+00],\n",
       "         [ 0.0000e+00],\n",
       "         [ 0.0000e+00],\n",
       "         [ 0.0000e+00],\n",
       "         [ 0.0000e+00],\n",
       "         [ 0.0000e+00]], grad_fn=<MaskedScatterBackward>)]"
      ]
     },
     "execution_count": 20,
     "metadata": {},
     "output_type": "execute_result"
    }
   ],
   "source": [
    "model.constraint_coeffs(sparse=True, scaled=False)"
   ]
  },
  {
   "cell_type": "code",
   "execution_count": 17,
   "metadata": {},
   "outputs": [
    {
     "data": {
      "text/plain": [
       "[tensor([[ 0.0000],\n",
       "         [ 0.0000],\n",
       "         [ 0.0000],\n",
       "         [-0.8803],\n",
       "         [ 0.0000],\n",
       "         [-1.7092],\n",
       "         [ 0.0000],\n",
       "         [ 0.0000],\n",
       "         [ 0.0000],\n",
       "         [ 0.0000],\n",
       "         [ 0.0000],\n",
       "         [ 0.0000]], grad_fn=<MaskedScatterBackward>)]"
      ]
     },
     "execution_count": 17,
     "metadata": {},
     "output_type": "execute_result"
    }
   ],
   "source": [
    "model.constraint_coeffs(scaled=True, sparse=True)"
   ]
  },
  {
   "cell_type": "code",
   "execution_count": 18,
   "metadata": {},
   "outputs": [
    {
     "data": {
      "text/plain": [
       "[tensor([False, False, False,  True, False,  True, False, False, False, False,\n",
       "         False, False])]"
      ]
     },
     "execution_count": 18,
     "metadata": {},
     "output_type": "execute_result"
    }
   ],
   "source": [
    "model.sparsity_masks"
   ]
  },
  {
   "cell_type": "code",
   "execution_count": null,
   "metadata": {},
   "outputs": [],
   "source": []
  },
  {
   "cell_type": "markdown",
   "metadata": {},
   "source": [
    "# Conclusion"
   ]
  },
  {
   "cell_type": "markdown",
   "metadata": {},
   "source": [
    "We have a good set of parameters for which we now both work and when. let's now test the sensitivity of Siren w.r.t the first sparsity moment and check the MSE if we dont do sparsity."
   ]
  },
  {
   "cell_type": "code",
   "execution_count": null,
   "metadata": {},
   "outputs": [],
   "source": []
  }
 ],
 "metadata": {
  "kernelspec": {
   "display_name": "Python 3",
   "language": "python",
   "name": "python3"
  },
  "language_info": {
   "codemirror_mode": {
    "name": "ipython",
    "version": 3
   },
   "file_extension": ".py",
   "mimetype": "text/x-python",
   "name": "python",
   "nbconvert_exporter": "python",
   "pygments_lexer": "ipython3",
   "version": "3.7.6"
  }
 },
 "nbformat": 4,
 "nbformat_minor": 4
}
