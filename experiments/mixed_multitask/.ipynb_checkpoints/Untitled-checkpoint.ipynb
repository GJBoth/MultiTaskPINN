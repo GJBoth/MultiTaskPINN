{
 "cells": [
  {
   "cell_type": "code",
   "execution_count": null,
   "metadata": {},
   "outputs": [],
   "source": [
    "from multitaskpinn.utils.logger import Logger\n",
    "from multitaskpinn.training.convergence import Convergence\n",
    "\n",
    "\n",
    "# %% General imports\n",
    "import numpy as np\n",
    "import torch\n",
    "\n",
    "# DeepMoD stuff\n",
    "from multitaskpinn import DeepMoD\n",
    "from multitaskpinn.model.func_approx import NN\n",
    "from multitaskpinn.model.library import Library1D\n",
    "from multitaskpinn.model.constraint import LeastSquares\n",
    "from multitaskpinn.model.sparse_estimators import Threshold\n",
    "from multitaskpinn.training.sparsity_scheduler import TrainTestPeriodic\n",
    "from multitaskpinn.training import train_multitask\n",
    "\n",
    "from multitaskpinn.data import Dataset\n",
    "from multitaskpinn.data.kdv import DoubleSoliton\n",
    "\n",
    "%load_ext autoreload\n",
    "%autoreload 2"
   ]
  },
  {
   "cell_type": "code",
   "execution_count": null,
   "metadata": {},
   "outputs": [],
   "source": [
    "# Settings\n",
    "if torch.cuda.is_available():\n",
    "    device = 'cuda'\n",
    "else:\n",
    "    device = 'cpu'\n",
    "device='cpu'\n",
    "# Settings for reproducibility\n",
    "np.random.seed(42)\n",
    "torch.manual_seed(0)\n",
    "torch.backends.cudnn.deterministic = True\n",
    "torch.backends.cudnn.benchmark = False\n"
   ]
  },
  {
   "cell_type": "code",
   "execution_count": null,
   "metadata": {},
   "outputs": [],
   "source": [
    "def train_mixed_multitask(model: DeepMoD,\n",
    "          data: torch.Tensor,\n",
    "          target: torch.Tensor,\n",
    "          optimizer,\n",
    "          sparsity_scheduler,\n",
    "          split = 0.8,\n",
    "          exp_ID: str = None,\n",
    "          log_dir: str = None,\n",
    "          max_iterations: int = 10000,\n",
    "          write_iterations: int = 25,\n",
    "          **convergence_kwargs) -> None:\n",
    "    \"\"\"Trains the DeepMoD model. This function automatically splits the data set in a train and test set. \n",
    "\n",
    "    Args:\n",
    "        model (DeepMoD):  A DeepMoD object.\n",
    "        data (torch.Tensor):  Tensor of shape (n_samples x (n_spatial + 1)) containing the coordinates, first column should be the time coordinate.\n",
    "        target (torch.Tensor): Tensor of shape (n_samples x n_features) containing the target data.\n",
    "        optimizer ([type]):  Pytorch optimizer.\n",
    "        sparsity_scheduler ([type]):  Decides when to update the sparsity mask.\n",
    "        split (float, optional):  Fraction of the train set, by default 0.8.\n",
    "        exp_ID (str, optional): Unique ID to identify tensorboard file. Not used if log_dir is given, see pytorch documentation.\n",
    "        log_dir (str, optional): Directory where tensorboard file is written, by default None.\n",
    "        max_iterations (int, optional): [description]. Max number of epochs , by default 10000.\n",
    "        write_iterations (int, optional): [description]. Sets how often data is written to tensorboard and checks train loss , by default 25.\n",
    "    \"\"\"\n",
    "    logger = Logger(exp_ID, log_dir)\n",
    "    sparsity_scheduler.path = logger.log_dir # write checkpoint to same folder as tb output.\n",
    "    \n",
    "    # Splitting data, assumes data is already randomized\n",
    "    n_train = int(split * data.shape[0])\n",
    "    n_test = data.shape[0] - n_train\n",
    "    data_train, data_test = torch.split(data, [n_train, n_test], dim=0)\n",
    "    target_train, target_test = torch.split(target, [n_train, n_test], dim=0)\n",
    "\n",
    "    n_samples = data_train.shape[0]\n",
    "    model.t.data = -torch.var(target)\n",
    "    model.b.data = -torch.var(target)\n",
    "    model.a.data = -1 * torch.ones(1)\n",
    "    \n",
    "    threshold = 1e4\n",
    "    # Training\n",
    "    convergence = Convergence(**convergence_kwargs)\n",
    "    for iteration in torch.arange(0, max_iterations):\n",
    "        # ================== Training Model ============================\n",
    "        prediction, time_derivs, thetas = model(data_train)\n",
    "\n",
    "        tau_ = torch.exp(model.t).clamp(max=1e8) # we train the log of these things since they're very big\n",
    "        beta_ = torch.exp(model.b).clamp(max=1e8) # we cap alpha and beta to prevent overflow\n",
    "        m = model.a #torch.exp(model.a).clamp(max=1e8)\n",
    "        \n",
    "        mse = prediction - target_train\n",
    "        reg = time_derivs[0] - thetas[0] @ model.constraint_coeffs(scaled=False, sparse=True)[0]\n",
    "        n_samples = mse.shape[0]\n",
    "        loss = (tau_ / (1 - m**2) * mse.T @ mse \n",
    "                + beta_ / (1- m**2) * reg.T @ reg \n",
    "                - 2 * m * torch.sqrt(beta_ * tau_) * mse.T @ reg\n",
    "                - n_samples * torch.log(tau_ * beta_ / (1 - m**2)))\n",
    "        #loss = (tau_ * mse.T @ mse \n",
    "        #        + beta_ * reg.T @ reg \n",
    "        #        - n_samples * torch.log(tau_ * beta_))\n",
    "        \n",
    "        MSE = torch.mean((prediction - target_train)**2, dim=0)  # loss per output\n",
    "        Reg = torch.stack([torch.mean((dt - theta @ coeff_vector)**2)\n",
    "                           for dt, theta, coeff_vector in zip(time_derivs, thetas, model.constraint_coeffs(scaled=False, sparse=True))])\n",
    "        \n",
    "        #p_MSE = n_samples * (tau_ * MSE - torch.log(tau_))\n",
    "        #p_reg = n_samples * (beta_ * Reg - torch.log(beta_))\n",
    "        #loss = torch.sum(p_MSE + p_reg)\n",
    "\n",
    "        # Optimizer step\n",
    "        optimizer.zero_grad()\n",
    "        loss.backward()\n",
    "        optimizer.step()\n",
    "        \n",
    "        if iteration % write_iterations == 0:\n",
    "            # ================== Validation costs ================\n",
    "            with torch.no_grad():\n",
    "                prediction_test = model.func_approx(data_test)[0]\n",
    "                MSE_test = torch.mean((prediction_test - target_test)**2, dim=0)  # loss per output\n",
    "         \n",
    "            # ====================== Logging =======================\n",
    "            _ = model.sparse_estimator(thetas, time_derivs) # calculating estimator coeffs but not setting mask\n",
    "            logger(iteration, \n",
    "                   loss, MSE, Reg,\n",
    "                   model.constraint_coeffs(sparse=True, scaled=True), \n",
    "                   model.constraint_coeffs(sparse=True, scaled=False),\n",
    "                   model.estimator_coeffs(),\n",
    "                   MSE_test=MSE_test,\n",
    "                   tau=tau_,\n",
    "                   beta_=beta_,\n",
    "                   m = m)\n",
    "\n",
    "            # ================== Sparsity update =============\n",
    "            # Updating sparsity \n",
    "            update_sparsity = sparsity_scheduler(iteration, torch.sum(MSE_test), model, optimizer)\n",
    "            if update_sparsity: \n",
    "                model.constraint.sparsity_masks = model.sparse_estimator(thetas, time_derivs)\n",
    "\n",
    "            # ================= Checking convergence\n",
    "            l1_norm = torch.sum(torch.abs(torch.cat(model.constraint_coeffs(sparse=True, scaled=True), dim=1)))\n",
    "            converged = convergence(iteration, l1_norm)\n",
    "            if converged:\n",
    "                break\n",
    "    logger.close(model)"
   ]
  },
  {
   "cell_type": "markdown",
   "metadata": {},
   "source": [
    "# data"
   ]
  },
  {
   "cell_type": "code",
   "execution_count": null,
   "metadata": {},
   "outputs": [],
   "source": [
    "# %% making data\n",
    "\n",
    "x = np.linspace(-10, 10, 50)\n",
    "t = np.linspace(0.0, 2.0, 20)\n",
    "x_grid, t_grid = np.meshgrid(x, t, indexing='ij')\n",
    "\n",
    "dataset = Dataset(DoubleSoliton, c=[5.0, 1.0], x0=[-5.0, -1.0])\n",
    "X, y = dataset.create_dataset(x_grid.reshape(-1, 1), t_grid.reshape(-1, 1), n_samples=0, noise=0.20, random=True, normalize=True)\n",
    "X, y = X.to(device), y.to(device)\n"
   ]
  },
  {
   "cell_type": "markdown",
   "metadata": {},
   "source": [
    "# baseline"
   ]
  },
  {
   "cell_type": "code",
   "execution_count": null,
   "metadata": {},
   "outputs": [],
   "source": [
    "sparsity_scheduler = TrainTestPeriodic(periodicity=25, patience=1e8, delta=1e-5) # in terms of write iterations\n",
    "network = NN(2, [30, 30, 30, 30, 30], 1)\n",
    "library = Library1D(poly_order=2, diff_order=3) # Library function\n",
    "estimator = Threshold(0.1) # Sparse estimator \n",
    "constraint = LeastSquares() # How to constrain\n",
    "model = DeepMoD(network, library, estimator, constraint, 1).to(device) # Putting it all in the model\n",
    "optimizer = torch.optim.Adam(model.parameters(), betas=(0.99, 0.999), amsgrad=True, lr=2e-3) # Defining optimizer"
   ]
  },
  {
   "cell_type": "code",
   "execution_count": null,
   "metadata": {},
   "outputs": [],
   "source": [
    "train_multitask(model, X, y, optimizer, sparsity_scheduler, exp_ID=f'baseline', split=0.8, write_iterations=50, max_iterations=100000, delta=1e-8, patience=200)"
   ]
  },
  {
   "cell_type": "markdown",
   "metadata": {},
   "source": [
    "# multitask notation, no m"
   ]
  },
  {
   "cell_type": "code",
   "execution_count": null,
   "metadata": {},
   "outputs": [],
   "source": [
    "sparsity_scheduler = TrainTestPeriodic(periodicity=25, patience=1e8, delta=1e-5) # in terms of write iterations\n",
    "network = NN(2, [30, 30, 30, 30, 30], 1)\n",
    "library = Library1D(poly_order=2, diff_order=3) # Library function\n",
    "estimator = Threshold(0.1) # Sparse estimator \n",
    "constraint = LeastSquares() # How to constrain\n",
    "model = DeepMoD(network, library, estimator, constraint, 1).to(device) # Putting it all in the model\n",
    "optimizer = torch.optim.Adam(model.parameters(), betas=(0.99, 0.999), amsgrad=True, lr=2e-3) # Defining optimizer"
   ]
  },
  {
   "cell_type": "code",
   "execution_count": null,
   "metadata": {},
   "outputs": [],
   "source": [
    "train_mixed_multitask(model, X, y, optimizer, sparsity_scheduler, exp_ID=f'baseline_diff_notation', split=0.8, write_iterations=50, max_iterations=100000, delta=1e-8, patience=200)"
   ]
  },
  {
   "cell_type": "code",
   "execution_count": null,
   "metadata": {},
   "outputs": [],
   "source": []
  },
  {
   "cell_type": "markdown",
   "metadata": {},
   "source": [
    "# Mixed multitask, m=0"
   ]
  },
  {
   "cell_type": "code",
   "execution_count": null,
   "metadata": {},
   "outputs": [],
   "source": [
    "sparsity_scheduler = TrainTestPeriodic(periodicity=25, patience=1e8, delta=1e-5) # in terms of write iterations\n",
    "network = NN(2, [30, 30, 30, 30, 30], 1)\n",
    "library = Library1D(poly_order=2, diff_order=3) # Library function\n",
    "estimator = Threshold(0.1) # Sparse estimator \n",
    "constraint = LeastSquares() # How to constrain\n",
    "model = DeepMoD(network, library, estimator, constraint, 1).to(device) # Putting it all in the model\n",
    "optimizer = torch.optim.Adam(model.parameters(), betas=(0.99, 0.999), amsgrad=True, lr=2e-3) # Defining optimizer"
   ]
  },
  {
   "cell_type": "code",
   "execution_count": null,
   "metadata": {},
   "outputs": [],
   "source": [
    "train_mixed_multitask(model, X, y, optimizer, sparsity_scheduler, exp_ID=f'mt_m_0', split=0.8, write_iterations=50, max_iterations=100000, delta=1e-8, patience=200)"
   ]
  },
  {
   "cell_type": "markdown",
   "metadata": {},
   "source": [
    "# Mixed multitask, m != 0"
   ]
  },
  {
   "cell_type": "code",
   "execution_count": null,
   "metadata": {},
   "outputs": [],
   "source": [
    "sparsity_scheduler = TrainTestPeriodic(periodicity=25, patience=1e8, delta=1e-5) # in terms of write iterations\n",
    "network = NN(2, [30, 30, 30, 30, 30], 1)\n",
    "library = Library1D(poly_order=2, diff_order=3) # Library function\n",
    "estimator = Threshold(0.1) # Sparse estimator \n",
    "constraint = LeastSquares() # How to constrain\n",
    "model = DeepMoD(network, library, estimator, constraint, 1).to(device) # Putting it all in the model\n",
    "optimizer = torch.optim.Adam(model.parameters(), betas=(0.99, 0.999), amsgrad=True, lr=2e-3) # Defining optimizer"
   ]
  },
  {
   "cell_type": "code",
   "execution_count": null,
   "metadata": {},
   "outputs": [],
   "source": [
    "train_mixed_multitask(model, X, y, optimizer, sparsity_scheduler, exp_ID=f'mt_m_not_0', split=0.8, write_iterations=50, max_iterations=100000, delta=1e-8, patience=200)"
   ]
  },
  {
   "cell_type": "code",
   "execution_count": null,
   "metadata": {},
   "outputs": [],
   "source": []
  },
  {
   "cell_type": "markdown",
   "metadata": {},
   "source": [
    "# Mixed multitask, m can be negative"
   ]
  },
  {
   "cell_type": "code",
   "execution_count": 82,
   "metadata": {},
   "outputs": [],
   "source": [
    "sparsity_scheduler = TrainTestPeriodic(periodicity=25, patience=1e8, delta=1e-5) # in terms of write iterations\n",
    "network = NN(2, [30, 30, 30, 30, 30], 1)\n",
    "library = Library1D(poly_order=2, diff_order=3) # Library function\n",
    "estimator = Threshold(0.1) # Sparse estimator \n",
    "constraint = LeastSquares() # How to constrain\n",
    "model = DeepMoD(network, library, estimator, constraint, 1).to(device) # Putting it all in the model\n",
    "optimizer = torch.optim.Adam(model.parameters(), betas=(0.99, 0.999), amsgrad=True, lr=2e-3) # Defining optimizer"
   ]
  },
  {
   "cell_type": "code",
   "execution_count": 81,
   "metadata": {},
   "outputs": [
    {
     "name": "stdout",
     "output_type": "stream",
     "text": [
      " 45850  MSE: 2.60e-02  Reg: 6.66e-10  L1: 2.77e+00 "
     ]
    },
    {
     "ename": "KeyboardInterrupt",
     "evalue": "",
     "output_type": "error",
     "traceback": [
      "\u001b[0;31m---------------------------------------------------------------------------\u001b[0m",
      "\u001b[0;31mKeyboardInterrupt\u001b[0m                         Traceback (most recent call last)",
      "\u001b[0;32m<ipython-input-81-15c102fc30f7>\u001b[0m in \u001b[0;36m<module>\u001b[0;34m\u001b[0m\n\u001b[0;32m----> 1\u001b[0;31m \u001b[0mtrain_mixed_multitask\u001b[0m\u001b[0;34m(\u001b[0m\u001b[0mmodel\u001b[0m\u001b[0;34m,\u001b[0m \u001b[0mX\u001b[0m\u001b[0;34m,\u001b[0m \u001b[0my\u001b[0m\u001b[0;34m,\u001b[0m \u001b[0moptimizer\u001b[0m\u001b[0;34m,\u001b[0m \u001b[0msparsity_scheduler\u001b[0m\u001b[0;34m,\u001b[0m \u001b[0mexp_ID\u001b[0m\u001b[0;34m=\u001b[0m\u001b[0;34mf'mt_m_not_0'\u001b[0m\u001b[0;34m,\u001b[0m \u001b[0msplit\u001b[0m\u001b[0;34m=\u001b[0m\u001b[0;36m0.8\u001b[0m\u001b[0;34m,\u001b[0m \u001b[0mwrite_iterations\u001b[0m\u001b[0;34m=\u001b[0m\u001b[0;36m50\u001b[0m\u001b[0;34m,\u001b[0m \u001b[0mmax_iterations\u001b[0m\u001b[0;34m=\u001b[0m\u001b[0;36m100000\u001b[0m\u001b[0;34m,\u001b[0m \u001b[0mdelta\u001b[0m\u001b[0;34m=\u001b[0m\u001b[0;36m1e-8\u001b[0m\u001b[0;34m,\u001b[0m \u001b[0mpatience\u001b[0m\u001b[0;34m=\u001b[0m\u001b[0;36m200\u001b[0m\u001b[0;34m)\u001b[0m\u001b[0;34m\u001b[0m\u001b[0;34m\u001b[0m\u001b[0m\n\u001b[0m",
      "\u001b[0;32m<ipython-input-78-997ba3de96f7>\u001b[0m in \u001b[0;36mtrain_mixed_multitask\u001b[0;34m(model, data, target, optimizer, sparsity_scheduler, split, exp_ID, log_dir, max_iterations, write_iterations, **convergence_kwargs)\u001b[0m\n\u001b[1;32m     70\u001b[0m         \u001b[0;31m# Optimizer step\u001b[0m\u001b[0;34m\u001b[0m\u001b[0;34m\u001b[0m\u001b[0;34m\u001b[0m\u001b[0m\n\u001b[1;32m     71\u001b[0m         \u001b[0moptimizer\u001b[0m\u001b[0;34m.\u001b[0m\u001b[0mzero_grad\u001b[0m\u001b[0;34m(\u001b[0m\u001b[0;34m)\u001b[0m\u001b[0;34m\u001b[0m\u001b[0;34m\u001b[0m\u001b[0m\n\u001b[0;32m---> 72\u001b[0;31m         \u001b[0mloss\u001b[0m\u001b[0;34m.\u001b[0m\u001b[0mbackward\u001b[0m\u001b[0;34m(\u001b[0m\u001b[0;34m)\u001b[0m\u001b[0;34m\u001b[0m\u001b[0;34m\u001b[0m\u001b[0m\n\u001b[0m\u001b[1;32m     73\u001b[0m         \u001b[0moptimizer\u001b[0m\u001b[0;34m.\u001b[0m\u001b[0mstep\u001b[0m\u001b[0;34m(\u001b[0m\u001b[0;34m)\u001b[0m\u001b[0;34m\u001b[0m\u001b[0;34m\u001b[0m\u001b[0m\n\u001b[1;32m     74\u001b[0m \u001b[0;34m\u001b[0m\u001b[0m\n",
      "\u001b[0;32m~/anaconda3/lib/python3.8/site-packages/torch/tensor.py\u001b[0m in \u001b[0;36mbackward\u001b[0;34m(self, gradient, retain_graph, create_graph)\u001b[0m\n\u001b[1;32m    183\u001b[0m                 \u001b[0mproducts\u001b[0m\u001b[0;34m.\u001b[0m \u001b[0mDefaults\u001b[0m \u001b[0mto\u001b[0m\u001b[0;31m \u001b[0m\u001b[0;31m`\u001b[0m\u001b[0;31m`\u001b[0m\u001b[0;32mFalse\u001b[0m\u001b[0;31m`\u001b[0m\u001b[0;31m`\u001b[0m\u001b[0;34m.\u001b[0m\u001b[0;34m\u001b[0m\u001b[0;34m\u001b[0m\u001b[0m\n\u001b[1;32m    184\u001b[0m         \"\"\"\n\u001b[0;32m--> 185\u001b[0;31m         \u001b[0mtorch\u001b[0m\u001b[0;34m.\u001b[0m\u001b[0mautograd\u001b[0m\u001b[0;34m.\u001b[0m\u001b[0mbackward\u001b[0m\u001b[0;34m(\u001b[0m\u001b[0mself\u001b[0m\u001b[0;34m,\u001b[0m \u001b[0mgradient\u001b[0m\u001b[0;34m,\u001b[0m \u001b[0mretain_graph\u001b[0m\u001b[0;34m,\u001b[0m \u001b[0mcreate_graph\u001b[0m\u001b[0;34m)\u001b[0m\u001b[0;34m\u001b[0m\u001b[0;34m\u001b[0m\u001b[0m\n\u001b[0m\u001b[1;32m    186\u001b[0m \u001b[0;34m\u001b[0m\u001b[0m\n\u001b[1;32m    187\u001b[0m     \u001b[0;32mdef\u001b[0m \u001b[0mregister_hook\u001b[0m\u001b[0;34m(\u001b[0m\u001b[0mself\u001b[0m\u001b[0;34m,\u001b[0m \u001b[0mhook\u001b[0m\u001b[0;34m)\u001b[0m\u001b[0;34m:\u001b[0m\u001b[0;34m\u001b[0m\u001b[0;34m\u001b[0m\u001b[0m\n",
      "\u001b[0;32m~/anaconda3/lib/python3.8/site-packages/torch/autograd/__init__.py\u001b[0m in \u001b[0;36mbackward\u001b[0;34m(tensors, grad_tensors, retain_graph, create_graph, grad_variables)\u001b[0m\n\u001b[1;32m    123\u001b[0m         \u001b[0mretain_graph\u001b[0m \u001b[0;34m=\u001b[0m \u001b[0mcreate_graph\u001b[0m\u001b[0;34m\u001b[0m\u001b[0;34m\u001b[0m\u001b[0m\n\u001b[1;32m    124\u001b[0m \u001b[0;34m\u001b[0m\u001b[0m\n\u001b[0;32m--> 125\u001b[0;31m     Variable._execution_engine.run_backward(\n\u001b[0m\u001b[1;32m    126\u001b[0m         \u001b[0mtensors\u001b[0m\u001b[0;34m,\u001b[0m \u001b[0mgrad_tensors\u001b[0m\u001b[0;34m,\u001b[0m \u001b[0mretain_graph\u001b[0m\u001b[0;34m,\u001b[0m \u001b[0mcreate_graph\u001b[0m\u001b[0;34m,\u001b[0m\u001b[0;34m\u001b[0m\u001b[0;34m\u001b[0m\u001b[0m\n\u001b[1;32m    127\u001b[0m         allow_unreachable=True)  # allow_unreachable flag\n",
      "\u001b[0;31mKeyboardInterrupt\u001b[0m: "
     ]
    }
   ],
   "source": [
    "train_mixed_multitask(model, X, y, optimizer, sparsity_scheduler, exp_ID=f'mt_m_not_0', split=0.8, write_iterations=50, max_iterations=100000, delta=1e-8, patience=200)"
   ]
  }
 ],
 "metadata": {
  "kernelspec": {
   "display_name": "Python 3",
   "language": "python",
   "name": "python3"
  },
  "language_info": {
   "codemirror_mode": {
    "name": "ipython",
    "version": 3
   },
   "file_extension": ".py",
   "mimetype": "text/x-python",
   "name": "python",
   "nbconvert_exporter": "python",
   "pygments_lexer": "ipython3",
   "version": "3.8.3"
  }
 },
 "nbformat": 4,
 "nbformat_minor": 4
}
