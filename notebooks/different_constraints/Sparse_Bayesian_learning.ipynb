{
 "cells": [
  {
   "cell_type": "code",
   "execution_count": 96,
   "metadata": {},
   "outputs": [],
   "source": [
    "# General imports\n",
    "import numpy as np\n",
    "import torch\n",
    "\n",
    "from deepymod.data import Dataset\n",
    "from deepymod.data.burgers import BurgersDelta\n",
    "from sklearn.linear_model import ARDRegression\n",
    "\n",
    "import seaborn as sns\n",
    "sns.set()"
   ]
  },
  {
   "cell_type": "markdown",
   "metadata": {},
   "source": [
    "# Making data"
   ]
  },
  {
   "cell_type": "code",
   "execution_count": 97,
   "metadata": {},
   "outputs": [
    {
     "name": "stdout",
     "output_type": "stream",
     "text": [
      "(5000, 1) (5000, 12)\n"
     ]
    }
   ],
   "source": [
    "# Making dataset\n",
    "v = 0.1\n",
    "A = 1.0\n",
    "\n",
    "x = np.linspace(-3, 4, 100)\n",
    "t = np.linspace(0.5, 5.0, 50)\n",
    "x_grid, t_grid = np.meshgrid(x, t, indexing='ij')\n",
    "dataset = Dataset(BurgersDelta, v=v, A=A)\n",
    "\n",
    "y = dataset.time_deriv(x_grid.reshape(-1, 1), t_grid.reshape(-1, 1)) # observations\n",
    "X = dataset.library(x_grid.reshape(-1, 1), t_grid.reshape(-1, 1), poly_order=2, deriv_order=3) # covariates\n",
    "\n",
    "print(y.shape, X.shape)"
   ]
  },
  {
   "cell_type": "code",
   "execution_count": 98,
   "metadata": {},
   "outputs": [],
   "source": [
    "y += np.std(y) * 0.5 * np.random.randn(*y.shape)"
   ]
  },
  {
   "cell_type": "code",
   "execution_count": 101,
   "metadata": {},
   "outputs": [
    {
     "data": {
      "text/plain": [
       "124.31148290209636"
      ]
     },
     "execution_count": 101,
     "metadata": {},
     "output_type": "execute_result"
    }
   ],
   "source": [
    "1 / (np.std(y) * 0.5)**2"
   ]
  },
  {
   "cell_type": "code",
   "execution_count": 100,
   "metadata": {},
   "outputs": [],
   "source": [
    "X = X / np.linalg.norm(X, axis=0, keepdims=True)"
   ]
  },
  {
   "cell_type": "markdown",
   "metadata": {},
   "source": [
    "# Baseline"
   ]
  },
  {
   "cell_type": "code",
   "execution_count": 102,
   "metadata": {},
   "outputs": [],
   "source": [
    "reg = ARDRegression(alpha_1=0, alpha_2=0, lambda_1=0, lambda_2=0, fit_intercept=False, compute_score=True)"
   ]
  },
  {
   "cell_type": "code",
   "execution_count": 103,
   "metadata": {},
   "outputs": [
    {
     "name": "stderr",
     "output_type": "stream",
     "text": [
      "/home/gert-jan/anaconda3/lib/python3.8/site-packages/sklearn/utils/validation.py:73: DataConversionWarning: A column-vector y was passed when a 1d array was expected. Please change the shape of y to (n_samples, ), for example using ravel().\n",
      "  return f(**kwargs)\n"
     ]
    },
    {
     "data": {
      "text/plain": [
       "ARDRegression(alpha_1=0, alpha_2=0, compute_score=True, fit_intercept=False,\n",
       "              lambda_1=0, lambda_2=0)"
      ]
     },
     "execution_count": 103,
     "metadata": {},
     "output_type": "execute_result"
    }
   ],
   "source": [
    "reg.fit(X, y)"
   ]
  },
  {
   "cell_type": "code",
   "execution_count": 104,
   "metadata": {},
   "outputs": [
    {
     "data": {
      "text/plain": [
       "array([[ 5.25206972e-02],\n",
       "       [-4.94513305e-04],\n",
       "       [ 7.43065421e+00],\n",
       "       [ 0.00000000e+00],\n",
       "       [ 0.00000000e+00],\n",
       "       [-1.04260056e+01],\n",
       "       [ 0.00000000e+00],\n",
       "       [ 0.00000000e+00],\n",
       "       [ 0.00000000e+00],\n",
       "       [ 0.00000000e+00],\n",
       "       [ 0.00000000e+00],\n",
       "       [ 1.22884590e-01]])"
      ]
     },
     "execution_count": 104,
     "metadata": {},
     "output_type": "execute_result"
    }
   ],
   "source": [
    "reg.coef_[:, None]"
   ]
  },
  {
   "cell_type": "code",
   "execution_count": 105,
   "metadata": {},
   "outputs": [
    {
     "data": {
      "text/plain": [
       "array([1.71445116e+02, 8.62351648e+03, 1.81090137e-02, 1.34023282e+04,\n",
       "       1.40524600e+04, 9.19910893e-03, 2.81571225e+04, 9.97261754e+04,\n",
       "       2.01255070e+04, 1.57324925e+04, 3.58915212e+04, 4.52129422e+01])"
      ]
     },
     "execution_count": 105,
     "metadata": {},
     "output_type": "execute_result"
    }
   ],
   "source": [
    "reg.lambda_"
   ]
  },
  {
   "cell_type": "code",
   "execution_count": 106,
   "metadata": {},
   "outputs": [
    {
     "data": {
      "text/plain": [
       "153.9288525299634"
      ]
     },
     "execution_count": 106,
     "metadata": {},
     "output_type": "execute_result"
    }
   ],
   "source": [
    "reg.alpha_"
   ]
  },
  {
   "cell_type": "code",
   "execution_count": 107,
   "metadata": {},
   "outputs": [
    {
     "data": {
      "text/plain": [
       "[10039.051253594791,\n",
       " 10089.093000438887,\n",
       " 10091.168031144203,\n",
       " 10104.031580754345,\n",
       " 10107.943032728228,\n",
       " 10112.089942735729,\n",
       " 10112.071692677218,\n",
       " 10116.573595707348,\n",
       " 10116.574835473974,\n",
       " 10116.575505725265,\n",
       " 10116.57589785231,\n",
       " 10116.576140932826,\n",
       " 10116.576298073498,\n",
       " 10116.576402733874,\n",
       " 10116.57647391213,\n",
       " 10116.576523026388,\n",
       " 10116.576557257968]"
      ]
     },
     "execution_count": 107,
     "metadata": {},
     "output_type": "execute_result"
    }
   ],
   "source": [
    "reg.scores_"
   ]
  },
  {
   "cell_type": "markdown",
   "metadata": {},
   "source": [
    "# Own implementation"
   ]
  },
  {
   "cell_type": "code",
   "execution_count": 91,
   "metadata": {},
   "outputs": [],
   "source": [
    "def SBL(X, y, alpha_, beta_):\n",
    "    N, M = X.shape[0], X.shape[1]\n",
    "    \n",
    "    gram = X.T @ X\n",
    "    sigma = torch.inverse(torch.diag(alpha_ / beta_) + gram)\n",
    "    mn = sigma @ X.T @ y\n",
    "    \n",
    "    p = - N * torch.log(beta_) - torch.logdet(torch.eye(M) -  gram @ sigma) + beta_ * (y.T @ y - y.T @ X @ mn)\n",
    "    return p, mn"
   ]
  },
  {
   "cell_type": "code",
   "execution_count": 92,
   "metadata": {},
   "outputs": [
    {
     "name": "stderr",
     "output_type": "stream",
     "text": [
      "<ipython-input-92-0abe2f548606>:2: UserWarning: To copy construct from a tensor, it is recommended to use sourceTensor.clone().detach() or sourceTensor.clone().detach().requires_grad_(True), rather than torch.tensor(sourceTensor).\n",
      "  X = torch.tensor(X, dtype=torch.float32)\n",
      "<ipython-input-92-0abe2f548606>:3: UserWarning: To copy construct from a tensor, it is recommended to use sourceTensor.clone().detach() or sourceTensor.clone().detach().requires_grad_(True), rather than torch.tensor(sourceTensor).\n",
      "  y = torch.tensor(y, dtype=torch.float32)\n"
     ]
    }
   ],
   "source": [
    "# Now let's optimize\n",
    "X = torch.tensor(X, dtype=torch.float32)\n",
    "y = torch.tensor(y, dtype=torch.float32)\n",
    "\n",
    "a = torch.nn.Parameter(torch.zeros(12, dtype=torch.float32))\n",
    "b = torch.nn.Parameter(-torch.log(torch.var(y)))\n",
    "\n",
    "optimizer = torch.optim.Adam([a, b], lr=1e-2)\n",
    "max_epochs=1e4"
   ]
  },
  {
   "cell_type": "code",
   "execution_count": 93,
   "metadata": {},
   "outputs": [
    {
     "name": "stdout",
     "output_type": "stream",
     "text": [
      "tensor([[1085.0990]], grad_fn=<AddBackward0>)\n",
      "tensor([[46.3650]], grad_fn=<AddBackward0>)\n",
      "tensor([[33.3966]], grad_fn=<AddBackward0>)\n",
      "tensor([[32.2879]], grad_fn=<AddBackward0>)\n",
      "tensor([[32.2120]], grad_fn=<AddBackward0>)\n",
      "tensor([[32.1989]], grad_fn=<AddBackward0>)\n",
      "tensor([[32.1909]], grad_fn=<AddBackward0>)\n",
      "tensor([[32.1859]], grad_fn=<AddBackward0>)\n",
      "tensor([[32.1828]], grad_fn=<AddBackward0>)\n",
      "tensor([[32.1809]], grad_fn=<AddBackward0>)\n"
     ]
    }
   ],
   "source": [
    "for epoch in torch.arange(max_epochs):\n",
    "    alpha_ = torch.exp(a).clamp(max=1e8)\n",
    "    beta_ = torch.exp(b).clamp(max=1e8)\n",
    "    loss = SBL(X, y, alpha_, beta_)[0]\n",
    "    optimizer.zero_grad()\n",
    "    loss.backward()\n",
    "    optimizer.step()\n",
    "    if epoch % 1000 == 0:\n",
    "        print(loss)"
   ]
  },
  {
   "cell_type": "code",
   "execution_count": 94,
   "metadata": {},
   "outputs": [
    {
     "data": {
      "text/plain": [
       "tensor([2.7518e+03, 1.0846e+02, 2.0792e-02, 2.1820e+03, 2.7587e+03, 9.6296e-03,\n",
       "        3.1648e+03, 5.0766e+03, 4.1529e+03, 4.0245e+01, 2.3645e+03, 2.9882e+03],\n",
       "       grad_fn=<ClampBackward>)"
      ]
     },
     "execution_count": 94,
     "metadata": {},
     "output_type": "execute_result"
    }
   ],
   "source": [
    "alpha_"
   ]
  },
  {
   "cell_type": "code",
   "execution_count": 95,
   "metadata": {},
   "outputs": [
    {
     "data": {
      "text/plain": [
       "tensor(3.1971, grad_fn=<MulBackward0>)"
      ]
     },
     "execution_count": 95,
     "metadata": {},
     "output_type": "execute_result"
    }
   ],
   "source": [
    "1 / beta_"
   ]
  },
  {
   "cell_type": "code",
   "execution_count": 82,
   "metadata": {},
   "outputs": [
    {
     "data": {
      "text/plain": [
       "tensor([[ 3.2022e-04],\n",
       "        [-9.9967e-04],\n",
       "        [ 7.3045e+00],\n",
       "        [-1.0570e-01],\n",
       "        [ 1.7910e-02],\n",
       "        [-1.0344e+01],\n",
       "        [ 3.3136e-02],\n",
       "        [ 3.8003e-02],\n",
       "        [ 5.9642e-02],\n",
       "        [-2.2907e-01],\n",
       "        [ 1.4715e-02],\n",
       "        [-3.1639e-02]], grad_fn=<MmBackward>)"
      ]
     },
     "execution_count": 82,
     "metadata": {},
     "output_type": "execute_result"
    }
   ],
   "source": [
    "mn"
   ]
  },
  {
   "cell_type": "code",
   "execution_count": 83,
   "metadata": {},
   "outputs": [
    {
     "data": {
      "text/plain": [
       "tensor([[ 3.2022e-04],\n",
       "        [-0.0000e+00],\n",
       "        [ 7.3045e+00],\n",
       "        [-0.0000e+00],\n",
       "        [ 0.0000e+00],\n",
       "        [-1.0344e+01],\n",
       "        [ 0.0000e+00],\n",
       "        [ 0.0000e+00],\n",
       "        [ 0.0000e+00],\n",
       "        [-2.2907e-01],\n",
       "        [ 0.0000e+00],\n",
       "        [-0.0000e+00]], grad_fn=<MulBackward0>)"
      ]
     },
     "execution_count": 83,
     "metadata": {},
     "output_type": "execute_result"
    }
   ],
   "source": [
    "mn * (alpha_ < 1e4)[:, None]"
   ]
  },
  {
   "cell_type": "code",
   "execution_count": null,
   "metadata": {},
   "outputs": [],
   "source": []
  }
 ],
 "metadata": {
  "kernelspec": {
   "display_name": "Python 3",
   "language": "python",
   "name": "python3"
  },
  "language_info": {
   "codemirror_mode": {
    "name": "ipython",
    "version": 3
   },
   "file_extension": ".py",
   "mimetype": "text/x-python",
   "name": "python",
   "nbconvert_exporter": "python",
   "pygments_lexer": "ipython3",
   "version": "3.8.3"
  }
 },
 "nbformat": 4,
 "nbformat_minor": 4
}
